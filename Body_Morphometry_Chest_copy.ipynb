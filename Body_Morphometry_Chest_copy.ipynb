{
 "cells": [
  {
   "cell_type": "markdown",
   "metadata": {},
   "source": [
    "https://github.com/tuvovan/Unet-with-EfficientnetB7-Backbone/blob/master/Body%20Morphometry.ipynb"
   ]
  },
  {
   "cell_type": "code",
   "execution_count": 1,
   "metadata": {},
   "outputs": [
    {
     "name": "stdout",
     "output_type": "stream",
     "text": [
      "Collecting git+https://github.com/qubvel/segmentation_models\n",
      "  Cloning https://github.com/qubvel/segmentation_models to /tmp/pip-req-build-okrur6f5\n",
      "  Running command git clone --filter=blob:none --quiet https://github.com/qubvel/segmentation_models /tmp/pip-req-build-okrur6f5\n",
      "  Resolved https://github.com/qubvel/segmentation_models to commit e951c6747f75fa9e7240816d1c79dd2e66813123\n",
      "  Running command git submodule update --init --recursive -q\n",
      "  Preparing metadata (setup.py) ... \u001b[?25ldone\n",
      "\u001b[?25hCollecting keras_applications<=1.0.8,>=1.0.7 (from segmentation-models==1.0.1)\n",
      "  Downloading Keras_Applications-1.0.8-py3-none-any.whl (50 kB)\n",
      "\u001b[2K     \u001b[90m━━━━━━━━━━━━━━━━━━━━━━━━━━━━━━━━━━━━━━━━\u001b[0m \u001b[32m50.7/50.7 kB\u001b[0m \u001b[31m1.1 MB/s\u001b[0m eta \u001b[36m0:00:00\u001b[0mta \u001b[36m0:00:01\u001b[0m\n",
      "\u001b[?25hCollecting image-classifiers==1.0.0 (from segmentation-models==1.0.1)\n",
      "  Downloading image_classifiers-1.0.0-py3-none-any.whl (19 kB)\n",
      "Collecting efficientnet==1.0.0 (from segmentation-models==1.0.1)\n",
      "  Downloading efficientnet-1.0.0-py3-none-any.whl (17 kB)\n",
      "Collecting scikit-image (from efficientnet==1.0.0->segmentation-models==1.0.1)\n",
      "  Obtaining dependency information for scikit-image from https://files.pythonhosted.org/packages/70/a9/a9f63dde69ac5a4451d8a0ebdde95824ec31aafcae1c77658a9058e27bb7/scikit_image-0.21.0-cp310-cp310-manylinux_2_17_x86_64.manylinux2014_x86_64.whl.metadata\n",
      "  Downloading scikit_image-0.21.0-cp310-cp310-manylinux_2_17_x86_64.manylinux2014_x86_64.whl.metadata (14 kB)\n",
      "Collecting numpy>=1.9.1 (from keras_applications<=1.0.8,>=1.0.7->segmentation-models==1.0.1)\n",
      "  Obtaining dependency information for numpy>=1.9.1 from https://files.pythonhosted.org/packages/71/3c/3b1981c6a1986adc9ee7db760c0c34ea5b14ac3da9ecfcf1ea2a4ec6c398/numpy-1.25.2-cp310-cp310-manylinux_2_17_x86_64.manylinux2014_x86_64.whl.metadata\n",
      "  Downloading numpy-1.25.2-cp310-cp310-manylinux_2_17_x86_64.manylinux2014_x86_64.whl.metadata (5.6 kB)\n",
      "Collecting h5py (from keras_applications<=1.0.8,>=1.0.7->segmentation-models==1.0.1)\n",
      "  Obtaining dependency information for h5py from https://files.pythonhosted.org/packages/0d/7a/e55589e4093cca1934db5e99644c1c2424a9b3aac104b7f6176605a5eeb7/h5py-3.9.0-cp310-cp310-manylinux_2_17_x86_64.manylinux2014_x86_64.whl.metadata\n",
      "  Downloading h5py-3.9.0-cp310-cp310-manylinux_2_17_x86_64.manylinux2014_x86_64.whl.metadata (2.5 kB)\n",
      "Collecting scipy>=1.8 (from scikit-image->efficientnet==1.0.0->segmentation-models==1.0.1)\n",
      "  Obtaining dependency information for scipy>=1.8 from https://files.pythonhosted.org/packages/a8/cc/c36f3439f5d47c3b13833ce6687b43a040cc7638c502ac46b41e2d4f3d6f/scipy-1.11.2-cp310-cp310-manylinux_2_17_x86_64.manylinux2014_x86_64.whl.metadata\n",
      "  Downloading scipy-1.11.2-cp310-cp310-manylinux_2_17_x86_64.manylinux2014_x86_64.whl.metadata (59 kB)\n",
      "\u001b[2K     \u001b[90m━━━━━━━━━━━━━━━━━━━━━━━━━━━━━━━━━━━━━━━━\u001b[0m \u001b[32m59.1/59.1 kB\u001b[0m \u001b[31m1.4 MB/s\u001b[0m eta \u001b[36m0:00:00\u001b[0mta \u001b[36m0:00:01\u001b[0m\n",
      "\u001b[?25hCollecting networkx>=2.8 (from scikit-image->efficientnet==1.0.0->segmentation-models==1.0.1)\n",
      "  Downloading networkx-3.1-py3-none-any.whl (2.1 MB)\n",
      "\u001b[2K     \u001b[90m━━━━━━━━━━━━━━━━━━━━━━━━━━━━━━━━━━━━━━━━\u001b[0m \u001b[32m2.1/2.1 MB\u001b[0m \u001b[31m23.3 MB/s\u001b[0m eta \u001b[36m0:00:00\u001b[0m00:01\u001b[0m\n",
      "\u001b[?25hCollecting pillow>=9.0.1 (from scikit-image->efficientnet==1.0.0->segmentation-models==1.0.1)\n",
      "  Obtaining dependency information for pillow>=9.0.1 from https://files.pythonhosted.org/packages/3d/36/e78f09d510354977e10102dd811e928666021d9c451e05df962d56477772/Pillow-10.0.0-cp310-cp310-manylinux_2_28_x86_64.whl.metadata\n",
      "  Downloading Pillow-10.0.0-cp310-cp310-manylinux_2_28_x86_64.whl.metadata (9.5 kB)\n",
      "Collecting imageio>=2.27 (from scikit-image->efficientnet==1.0.0->segmentation-models==1.0.1)\n",
      "  Obtaining dependency information for imageio>=2.27 from https://files.pythonhosted.org/packages/c7/b0/7b6c35b8636ed773325cdb6f5ac3cd36afba63d99e20ed59c521cf5018b4/imageio-2.31.1-py3-none-any.whl.metadata\n",
      "  Downloading imageio-2.31.1-py3-none-any.whl.metadata (4.7 kB)\n",
      "Collecting tifffile>=2022.8.12 (from scikit-image->efficientnet==1.0.0->segmentation-models==1.0.1)\n",
      "  Obtaining dependency information for tifffile>=2022.8.12 from https://files.pythonhosted.org/packages/74/68/19989a1009f68ed777ea5d2624c2996bab0890a31ce7d4b2a7ae4e1c0cfe/tifffile-2023.8.12-py3-none-any.whl.metadata\n",
      "  Downloading tifffile-2023.8.12-py3-none-any.whl.metadata (30 kB)\n",
      "Collecting PyWavelets>=1.1.1 (from scikit-image->efficientnet==1.0.0->segmentation-models==1.0.1)\n",
      "  Downloading PyWavelets-1.4.1-cp310-cp310-manylinux_2_17_x86_64.manylinux2014_x86_64.whl (6.8 MB)\n",
      "\u001b[2K     \u001b[90m━━━━━━━━━━━━━━━━━━━━━━━━━━━━━━━━━━━━━━━━\u001b[0m \u001b[32m6.8/6.8 MB\u001b[0m \u001b[31m40.1 MB/s\u001b[0m eta \u001b[36m0:00:00\u001b[0m:00:01\u001b[0m00:01\u001b[0m\n",
      "\u001b[?25hRequirement already satisfied: packaging>=21 in /home/fds/miniconda3/envs/py310_tf/lib/python3.10/site-packages (from scikit-image->efficientnet==1.0.0->segmentation-models==1.0.1) (23.1)\n",
      "Collecting lazy_loader>=0.2 (from scikit-image->efficientnet==1.0.0->segmentation-models==1.0.1)\n",
      "  Obtaining dependency information for lazy_loader>=0.2 from https://files.pythonhosted.org/packages/a1/c3/65b3814e155836acacf720e5be3b5757130346670ac454fee29d3eda1381/lazy_loader-0.3-py3-none-any.whl.metadata\n",
      "  Downloading lazy_loader-0.3-py3-none-any.whl.metadata (4.3 kB)\n",
      "Downloading numpy-1.25.2-cp310-cp310-manylinux_2_17_x86_64.manylinux2014_x86_64.whl (18.2 MB)\n",
      "\u001b[2K   \u001b[90m━━━━━━━━━━━━━━━━━━━━━━━━━━━━━━━━━━━━━━━━\u001b[0m \u001b[32m18.2/18.2 MB\u001b[0m \u001b[31m17.5 MB/s\u001b[0m eta \u001b[36m0:00:00\u001b[0m00:01\u001b[0m00:01\u001b[0m\n",
      "\u001b[?25hDownloading h5py-3.9.0-cp310-cp310-manylinux_2_17_x86_64.manylinux2014_x86_64.whl (4.8 MB)\n",
      "\u001b[2K   \u001b[90m━━━━━━━━━━━━━━━━━━━━━━━━━━━━━━━━━━━━━━━━\u001b[0m \u001b[32m4.8/4.8 MB\u001b[0m \u001b[31m23.9 MB/s\u001b[0m eta \u001b[36m0:00:00\u001b[0m00:01\u001b[0m00:01\u001b[0mm\n",
      "\u001b[?25hDownloading scikit_image-0.21.0-cp310-cp310-manylinux_2_17_x86_64.manylinux2014_x86_64.whl (13.8 MB)\n",
      "\u001b[2K   \u001b[90m━━━━━━━━━━━━━━━━━━━━━━━━━━━━━━━━━━━━━━━━\u001b[0m \u001b[32m13.8/13.8 MB\u001b[0m \u001b[31m30.2 MB/s\u001b[0m eta \u001b[36m0:00:00\u001b[0m00:01\u001b[0m00:01\u001b[0m\n",
      "\u001b[?25hDownloading imageio-2.31.1-py3-none-any.whl (313 kB)\n",
      "\u001b[2K   \u001b[90m━━━━━━━━━━━━━━━━━━━━━━━━━━━━━━━━━━━━━━━━\u001b[0m \u001b[32m313.2/313.2 kB\u001b[0m \u001b[31m7.2 MB/s\u001b[0m eta \u001b[36m0:00:00\u001b[0m:00:01\u001b[0m\n",
      "\u001b[?25hDownloading lazy_loader-0.3-py3-none-any.whl (9.1 kB)\n",
      "Downloading Pillow-10.0.0-cp310-cp310-manylinux_2_28_x86_64.whl (3.4 MB)\n",
      "\u001b[2K   \u001b[90m━━━━━━━━━━━━━━━━━━━━━━━━━━━━━━━━━━━━━━━━\u001b[0m \u001b[32m3.4/3.4 MB\u001b[0m \u001b[31m15.4 MB/s\u001b[0m eta \u001b[36m0:00:00\u001b[0m00:01\u001b[0m00:01\u001b[0m\n",
      "\u001b[?25hDownloading scipy-1.11.2-cp310-cp310-manylinux_2_17_x86_64.manylinux2014_x86_64.whl (36.3 MB)\n",
      "\u001b[2K   \u001b[90m━━━━━━━━━━━━━━━━━━━━━━━━━━━━━━━━━━━━━━━━\u001b[0m \u001b[32m36.3/36.3 MB\u001b[0m \u001b[31m22.9 MB/s\u001b[0m eta \u001b[36m0:00:00\u001b[0m:00:01\u001b[0m00:01\u001b[0m\n",
      "\u001b[?25hDownloading tifffile-2023.8.12-py3-none-any.whl (220 kB)\n",
      "\u001b[2K   \u001b[90m━━━━━━━━━━━━━━━━━━━━━━━━━━━━━━━━━━━━━━━━\u001b[0m \u001b[32m221.0/221.0 kB\u001b[0m \u001b[31m4.4 MB/s\u001b[0m eta \u001b[36m0:00:00\u001b[0mta \u001b[36m0:00:01\u001b[0m\n",
      "\u001b[?25hBuilding wheels for collected packages: segmentation-models\n",
      "  Building wheel for segmentation-models (setup.py) ... \u001b[?25ldone\n",
      "\u001b[?25h  Created wheel for segmentation-models: filename=segmentation_models-1.0.1-py3-none-any.whl size=33786 sha256=f5994b3adb3d274631505a4fe8c4197a9cba2af51c2549ac1998ed3dcfbf0f78\n",
      "  Stored in directory: /tmp/pip-ephem-wheel-cache-6ccxlht1/wheels/ce/d6/f1/5d00e82b3893c5f1ffee43bf7b8877148af09c7c9c6c4882c9\n",
      "Successfully built segmentation-models\n",
      "Installing collected packages: pillow, numpy, networkx, lazy_loader, tifffile, scipy, PyWavelets, imageio, h5py, scikit-image, keras_applications, image-classifiers, efficientnet, segmentation-models\n",
      "Successfully installed PyWavelets-1.4.1 efficientnet-1.0.0 h5py-3.9.0 image-classifiers-1.0.0 imageio-2.31.1 keras_applications-1.0.8 lazy_loader-0.3 networkx-3.1 numpy-1.25.2 pillow-10.0.0 scikit-image-0.21.0 scipy-1.11.2 segmentation-models-1.0.1 tifffile-2023.8.12\n"
     ]
    }
   ],
   "source": [
    "!pip install git+https://github.com/qubvel/segmentation_models"
   ]
  },
  {
   "cell_type": "code",
   "execution_count": 2,
   "metadata": {},
   "outputs": [
    {
     "ename": "ModuleNotFoundError",
     "evalue": "No module named 'tensorflow'",
     "output_type": "error",
     "traceback": [
      "\u001b[0;31m---------------------------------------------------------------------------\u001b[0m",
      "\u001b[0;31mModuleNotFoundError\u001b[0m                       Traceback (most recent call last)",
      "\u001b[1;32m/home/fds/Downloads/MOAI_2022_Body_Morphometry_AI_Segmentation_Online_Challenge/Body_Morphometry_Chest.ipynb Cell 2\u001b[0m in \u001b[0;36m<cell line: 5>\u001b[0;34m()\u001b[0m\n\u001b[1;32m      <a href='vscode-notebook-cell:/home/fds/Downloads/MOAI_2022_Body_Morphometry_AI_Segmentation_Online_Challenge/Body_Morphometry_Chest.ipynb#X61sZmlsZQ%3D%3D?line=0'>1</a>\u001b[0m \u001b[39mimport\u001b[39;00m \u001b[39mnumpy\u001b[39;00m \u001b[39mas\u001b[39;00m \u001b[39mnp\u001b[39;00m\n\u001b[1;32m      <a href='vscode-notebook-cell:/home/fds/Downloads/MOAI_2022_Body_Morphometry_AI_Segmentation_Online_Challenge/Body_Morphometry_Chest.ipynb#X61sZmlsZQ%3D%3D?line=1'>2</a>\u001b[0m \u001b[39mimport\u001b[39;00m \u001b[39mmatplotlib\u001b[39;00m\u001b[39m.\u001b[39;00m\u001b[39mpyplot\u001b[39;00m \u001b[39mas\u001b[39;00m \u001b[39mplt\u001b[39;00m\n\u001b[0;32m----> <a href='vscode-notebook-cell:/home/fds/Downloads/MOAI_2022_Body_Morphometry_AI_Segmentation_Online_Challenge/Body_Morphometry_Chest.ipynb#X61sZmlsZQ%3D%3D?line=4'>5</a>\u001b[0m \u001b[39mfrom\u001b[39;00m \u001b[39mtensorflow\u001b[39;00m\u001b[39m.\u001b[39;00m\u001b[39mkeras\u001b[39;00m\u001b[39m.\u001b[39;00m\u001b[39mpreprocessing\u001b[39;00m\u001b[39m.\u001b[39;00m\u001b[39mimage\u001b[39;00m \u001b[39mimport\u001b[39;00m ImageDataGenerator\n\u001b[1;32m      <a href='vscode-notebook-cell:/home/fds/Downloads/MOAI_2022_Body_Morphometry_AI_Segmentation_Online_Challenge/Body_Morphometry_Chest.ipynb#X61sZmlsZQ%3D%3D?line=6'>7</a>\u001b[0m MASK_COLORS \u001b[39m=\u001b[39m [\n\u001b[1;32m      <a href='vscode-notebook-cell:/home/fds/Downloads/MOAI_2022_Body_Morphometry_AI_Segmentation_Online_Challenge/Body_Morphometry_Chest.ipynb#X61sZmlsZQ%3D%3D?line=7'>8</a>\u001b[0m     \u001b[39m\"\u001b[39m\u001b[39mred\u001b[39m\u001b[39m\"\u001b[39m, \u001b[39m\"\u001b[39m\u001b[39mgreen\u001b[39m\u001b[39m\"\u001b[39m, \u001b[39m\"\u001b[39m\u001b[39mblue\u001b[39m\u001b[39m\"\u001b[39m,\n\u001b[1;32m      <a href='vscode-notebook-cell:/home/fds/Downloads/MOAI_2022_Body_Morphometry_AI_Segmentation_Online_Challenge/Body_Morphometry_Chest.ipynb#X61sZmlsZQ%3D%3D?line=8'>9</a>\u001b[0m     \u001b[39m\"\u001b[39m\u001b[39myellow\u001b[39m\u001b[39m\"\u001b[39m, \u001b[39m\"\u001b[39m\u001b[39mmagenta\u001b[39m\u001b[39m\"\u001b[39m, \u001b[39m\"\u001b[39m\u001b[39mcyan\u001b[39m\u001b[39m\"\u001b[39m\n\u001b[1;32m     <a href='vscode-notebook-cell:/home/fds/Downloads/MOAI_2022_Body_Morphometry_AI_Segmentation_Online_Challenge/Body_Morphometry_Chest.ipynb#X61sZmlsZQ%3D%3D?line=9'>10</a>\u001b[0m ]\n\u001b[1;32m     <a href='vscode-notebook-cell:/home/fds/Downloads/MOAI_2022_Body_Morphometry_AI_Segmentation_Online_Challenge/Body_Morphometry_Chest.ipynb#X61sZmlsZQ%3D%3D?line=12'>13</a>\u001b[0m \u001b[39m# Runtime data augmentation\u001b[39;00m\n",
      "\u001b[0;31mModuleNotFoundError\u001b[0m: No module named 'tensorflow'"
     ]
    }
   ],
   "source": [
    "import numpy as np\n",
    "import matplotlib.pyplot as plt\n",
    "\n",
    "\n",
    "from tensorflow.keras.preprocessing.image import ImageDataGenerator\n",
    "\n",
    "MASK_COLORS = [\n",
    "    \"red\", \"green\", \"blue\",\n",
    "    \"yellow\", \"magenta\", \"cyan\"\n",
    "]\n",
    "\n",
    "\n",
    "# Runtime data augmentation\n",
    "def get_augmented(\n",
    "    X_train,\n",
    "    Y_train,\n",
    "    X_val=None,\n",
    "    Y_val=None,\n",
    "    batch_size=32,\n",
    "    s=10,\n",
    "    data_gen_args=dict(\n",
    "        rotation_range=10.0,\n",
    "        # width_shift_range=0.02,\n",
    "        height_shift_range=0.02,\n",
    "        shear_range=5,\n",
    "        # zoom_range=0.3,\n",
    "        horizontal_flip=True,\n",
    "        vertical_flip=False,\n",
    "        fill_mode=\"constant\",\n",
    "    ),\n",
    "):\n",
    "    \"\"\"[summary]\n",
    "    \n",
    "    Args:\n",
    "        X_train (numpy.ndarray): [description]\n",
    "        Y_train (numpy.ndarray): [description]\n",
    "        X_val (numpy.ndarray, optional): [description]. Defaults to None.\n",
    "        Y_val (numpy.ndarray, optional): [description]. Defaults to None.\n",
    "        batch_size (int, optional): [description]. Defaults to 32.\n",
    "        seed (int, optional): [description]. Defaults to 0.\n",
    "        data_gen_args ([type], optional): [description]. Defaults to dict(rotation_range=10.0,# width_shift_range=0.02,height_shift_range=0.02,shear_range=5,# zoom_range=0.3,horizontal_flip=True,vertical_flip=False,fill_mode=\"constant\",).\n",
    "    \n",
    "    Returns:\n",
    "        [type]: [description]\n",
    "    \"\"\"\n",
    "\n",
    "    # Train data, provide the same seed and keyword arguments to the fit and flow methods\n",
    "    X_datagen = ImageDataGenerator(**data_gen_args)\n",
    "    Y_datagen = ImageDataGenerator(**data_gen_args)\n",
    "    X_datagen.fit(X_train, augment=True, seed=s)\n",
    "    Y_datagen.fit(Y_train, augment=True, seed=s)\n",
    "    X_train_augmented = X_datagen.flow(\n",
    "        X_train, batch_size=batch_size, shuffle=True, seed=s\n",
    "    )\n",
    "    Y_train_augmented = Y_datagen.flow(\n",
    "        Y_train, batch_size=batch_size, shuffle=True, seed=s\n",
    "    )\n",
    "\n",
    "    train_generator = zip(X_train_augmented, Y_train_augmented)\n",
    "\n",
    "    if not (X_val is None) and not (Y_val is None):\n",
    "        # Validation data, no data augmentation, but we create a generator anyway\n",
    "        X_datagen_val = ImageDataGenerator(**data_gen_args)\n",
    "        Y_datagen_val = ImageDataGenerator(**data_gen_args)\n",
    "        X_datagen_val.fit(X_val, augment=False, seed=s)\n",
    "        Y_datagen_val.fit(Y_val, augment=False, seed=s)\n",
    "        X_val_augmented = X_datagen_val.flow(\n",
    "            X_val, batch_size=batch_size, shuffle=False, seed=s\n",
    "        )\n",
    "        Y_val_augmented = Y_datagen_val.flow(\n",
    "            Y_val, batch_size=batch_size, shuffle=False, seed=s\n",
    "        )\n",
    "\n",
    "        # combine generators into one which yields image and masks\n",
    "        val_generator = zip(X_val_augmented, Y_val_augmented)\n",
    "\n",
    "        return train_generator, val_generator\n",
    "    else:\n",
    "        return train_generator\n",
    "\n",
    "\n",
    "def plot_segm_history(history, metrics=[\"iou\", \"val_iou\"], losses=[\"loss\", \"val_loss\"]):\n",
    "    \"\"\"[summary]\n",
    "    \n",
    "    Args:\n",
    "        history ([type]): [description]\n",
    "        metrics (list, optional): [description]. Defaults to [\"iou\", \"val_iou\"].\n",
    "        losses (list, optional): [description]. Defaults to [\"loss\", \"val_loss\"].\n",
    "    \"\"\"\n",
    "    # summarize history for iou\n",
    "    plt.figure(figsize=(12, 6))\n",
    "    for metric in metrics:\n",
    "        plt.plot(history.history[metric], linewidth=3)\n",
    "    plt.suptitle(\"metrics over epochs\", fontsize=20)\n",
    "    plt.ylabel(\"metric\", fontsize=20)\n",
    "    plt.xlabel(\"epoch\", fontsize=20)\n",
    "    # plt.yticks(np.arange(0.3, 1, step=0.02), fontsize=35)\n",
    "    # plt.xticks(fontsize=35)\n",
    "    plt.legend(metrics, loc=\"center right\", fontsize=15)\n",
    "    plt.show()\n",
    "    # summarize history for loss\n",
    "    plt.figure(figsize=(12, 6))\n",
    "    for loss in losses:\n",
    "        plt.plot(history.history[loss], linewidth=3)\n",
    "    plt.suptitle(\"loss over epochs\", fontsize=20)\n",
    "    plt.ylabel(\"loss\", fontsize=20)\n",
    "    plt.xlabel(\"epoch\", fontsize=20)\n",
    "    # plt.yticks(np.arange(0, 0.2, step=0.005), fontsize=35)\n",
    "    # plt.xticks(fontsize=35)\n",
    "    plt.legend(losses, loc=\"center right\", fontsize=15)\n",
    "    plt.show()\n",
    "\n",
    "\n",
    "def mask_to_red(mask):\n",
    "    \"\"\"\n",
    "    Converts binary segmentation mask from white to red color.\n",
    "    Also adds alpha channel to make black background transparent.\n",
    "    \n",
    "    Args:\n",
    "        mask (numpy.ndarray): [description]\n",
    "    \n",
    "    Returns:\n",
    "        numpy.ndarray: [description]\n",
    "    \"\"\"\n",
    "    img_size = mask.shape[0]\n",
    "    c1 = mask.reshape(img_size, img_size)\n",
    "    c2 = np.zeros((img_size, img_size))\n",
    "    c3 = np.zeros((img_size, img_size))\n",
    "    c4 = mask.reshape(img_size, img_size)\n",
    "    return np.stack((c1, c2, c3, c4), axis=-1)\n",
    "\n",
    "\n",
    "def mask_to_rgba(mask, color=\"red\"):\n",
    "    \"\"\"\n",
    "    Converts binary segmentation mask from white to red color.\n",
    "    Also adds alpha channel to make black background transparent.\n",
    "    \n",
    "    Args:\n",
    "        mask (numpy.ndarray): [description]\n",
    "        color (str, optional): Check `MASK_COLORS` for available colors. Defaults to \"red\".\n",
    "    \n",
    "    Returns:\n",
    "        numpy.ndarray: [description]\n",
    "    \"\"\"    \n",
    "    assert(color in MASK_COLORS)\n",
    "    assert(mask.ndim==3 or mask.ndim==2)\n",
    "\n",
    "    h = mask.shape[0]\n",
    "    w = mask.shape[1]\n",
    "    zeros = np.zeros((h, w))\n",
    "    ones = mask.reshape(h, w)\n",
    "    if color == \"red\":\n",
    "        return np.stack((ones, zeros, zeros, ones), axis=-1)\n",
    "    elif color == \"green\":\n",
    "        return np.stack((zeros, ones, zeros, ones), axis=-1)\n",
    "    elif color == \"blue\":\n",
    "        return np.stack((zeros, zeros, ones, ones), axis=-1)\n",
    "    elif color == \"yellow\":\n",
    "        return np.stack((ones, ones, zeros, ones), axis=-1)\n",
    "    elif color == \"magenta\":\n",
    "        return np.stack((ones, zeros, ones, ones), axis=-1)\n",
    "    elif color == \"cyan\":\n",
    "        return np.stack((zeros, ones, ones, ones), axis=-1)\n",
    "\n",
    "\n",
    "def plot_imgs(\n",
    "        org_imgs,\n",
    "        mask_imgs,\n",
    "        pred_imgs=None,\n",
    "        nm_img_to_plot=10,\n",
    "        figsize=4,\n",
    "        alpha=0.5,\n",
    "        color=\"red\"):\n",
    "    \"\"\"\n",
    "    Image plotting for semantic segmentation data.\n",
    "    Last column is always an overlay of ground truth or prediction\n",
    "    depending on what was provided as arguments.\n",
    "    Args:\n",
    "        org_imgs (numpy.ndarray): Array of arrays representing a collection of original images.\n",
    "        mask_imgs (numpy.ndarray): Array of arrays representing a collection of mask images (grayscale).\n",
    "        pred_imgs (numpy.ndarray, optional): Array of arrays representing a collection of prediction masks images.. Defaults to None.\n",
    "        nm_img_to_plot (int, optional): How many images to display. Takes first N images. Defaults to 10.\n",
    "        figsize (int, optional): Matplotlib figsize. Defaults to 4.\n",
    "        alpha (float, optional): Transparency for mask overlay on original image. Defaults to 0.5.\n",
    "        color (str, optional): Color for mask overlay. Defaults to \"red\".\n",
    "    \"\"\" # NOQA E501\n",
    "    assert(color in MASK_COLORS)\n",
    "\n",
    "    if nm_img_to_plot > org_imgs.shape[0]:\n",
    "        nm_img_to_plot = org_imgs.shape[0]\n",
    "    im_id = 0\n",
    "    org_imgs_size = org_imgs.shape[1]\n",
    "\n",
    "    org_imgs = reshape_arr(org_imgs)\n",
    "    mask_imgs = reshape_arr(mask_imgs)\n",
    "    if not (pred_imgs is None):\n",
    "        cols = 4\n",
    "        pred_imgs = reshape_arr(pred_imgs)\n",
    "    else:\n",
    "        cols = 3\n",
    "\n",
    "    fig, axes = plt.subplots(\n",
    "        nm_img_to_plot, cols, figsize=(cols * figsize, nm_img_to_plot * figsize), squeeze=False\n",
    "    )\n",
    "    axes[0, 0].set_title(\"original\", fontsize=15)\n",
    "    axes[0, 1].set_title(\"ground truth\", fontsize=15)\n",
    "    if not (pred_imgs is None):\n",
    "        axes[0, 2].set_title(\"prediction\", fontsize=15)\n",
    "        axes[0, 3].set_title(\"overlay\", fontsize=15)\n",
    "    else:\n",
    "        axes[0, 2].set_title(\"overlay\", fontsize=15)\n",
    "    for m in range(0, nm_img_to_plot):\n",
    "        axes[m, 0].imshow(org_imgs[im_id], cmap=get_cmap(org_imgs))\n",
    "        axes[m, 0].set_axis_off()\n",
    "        axes[m, 1].imshow(mask_imgs[im_id], cmap=get_cmap(mask_imgs))\n",
    "        axes[m, 1].set_axis_off()\n",
    "        if not (pred_imgs is None):\n",
    "            axes[m, 2].imshow(pred_imgs[im_id], cmap=get_cmap(pred_imgs))\n",
    "            axes[m, 2].set_axis_off()\n",
    "            axes[m, 3].imshow(org_imgs[im_id], cmap=get_cmap(org_imgs))\n",
    "            axes[m, 3].imshow(\n",
    "                mask_to_rgba(\n",
    "                    zero_pad_mask(pred_imgs[im_id], desired_size=org_imgs_size),\n",
    "                    color=color,\n",
    "                ),\n",
    "                cmap=get_cmap(pred_imgs),\n",
    "                alpha=alpha,\n",
    "            )\n",
    "            axes[m, 3].set_axis_off()\n",
    "        else:\n",
    "            axes[m, 2].imshow(org_imgs[im_id], cmap=get_cmap(org_imgs))\n",
    "            axes[m, 2].imshow(\n",
    "                mask_to_rgba(\n",
    "                    zero_pad_mask(mask_imgs[im_id], desired_size=org_imgs_size),\n",
    "                    color=color,\n",
    "                ),\n",
    "                cmap=get_cmap(mask_imgs),\n",
    "                alpha=alpha,\n",
    "            )\n",
    "            axes[m, 2].set_axis_off()\n",
    "        im_id += 1\n",
    "\n",
    "    plt.show()\n",
    "\n",
    "\n",
    "def zero_pad_mask(mask, desired_size):\n",
    "    \"\"\"[summary]\n",
    "    \n",
    "    Args:\n",
    "        mask (numpy.ndarray): [description]\n",
    "        desired_size ([type]): [description]\n",
    "    \n",
    "    Returns:\n",
    "        numpy.ndarray: [description]\n",
    "    \"\"\"\n",
    "    pad = (desired_size - mask.shape[0]) // 2\n",
    "    padded_mask = np.pad(mask, pad, mode=\"constant\")\n",
    "    return padded_mask\n",
    "\n",
    "\n",
    "def reshape_arr(arr):\n",
    "    \"\"\"[summary]\n",
    "    \n",
    "    Args:\n",
    "        arr (numpy.ndarray): [description]\n",
    "    \n",
    "    Returns:\n",
    "        numpy.ndarray: [description]\n",
    "    \"\"\"\n",
    "    if arr.ndim == 3:\n",
    "        return arr\n",
    "    elif arr.ndim == 4:\n",
    "        if arr.shape[3] == 3:\n",
    "            return arr\n",
    "        elif arr.shape[3] == 1:\n",
    "            return arr.reshape(arr.shape[0], arr.shape[1], arr.shape[2])\n",
    "\n",
    "\n",
    "def get_cmap(arr):\n",
    "    \"\"\"[summary]\n",
    "    \n",
    "    Args:\n",
    "        arr (numpy.ndarray): [description]\n",
    "    \n",
    "    Returns:\n",
    "        string: [description]\n",
    "    \"\"\"\n",
    "    if arr.ndim == 3:\n",
    "        return \"gray\"\n",
    "    elif arr.ndim == 4:\n",
    "        if arr.shape[3] == 3:\n",
    "            return \"jet\"\n",
    "        elif arr.shape[3] == 1:\n",
    "            return \"gray\"\n",
    "\n",
    "\n",
    "def get_patches(img_arr, size=256, stride=256):\n",
    "    \"\"\"\n",
    "    Takes single image or array of images and returns\n",
    "    crops using sliding window method.\n",
    "    If stride < size it will do overlapping.\n",
    "    \n",
    "    Args:\n",
    "        img_arr (numpy.ndarray): [description]\n",
    "        size (int, optional): [description]. Defaults to 256.\n",
    "        stride (int, optional): [description]. Defaults to 256.\n",
    "    \n",
    "    Raises:\n",
    "        ValueError: [description]\n",
    "        ValueError: [description]\n",
    "    \n",
    "    Returns:\n",
    "        numpy.ndarray: [description]\n",
    "    \"\"\"    \n",
    "    # check size and stride\n",
    "    if size % stride != 0:\n",
    "        raise ValueError(\"size % stride must be equal 0\")\n",
    "\n",
    "    patches_list = []\n",
    "    overlapping = 0\n",
    "    if stride != size:\n",
    "        overlapping = (size // stride) - 1\n",
    "\n",
    "    if img_arr.ndim == 3:\n",
    "        i_max = img_arr.shape[0] // stride - overlapping\n",
    "\n",
    "        for i in range(i_max):\n",
    "            for j in range(i_max):\n",
    "                # print(i*stride, i*stride+size)\n",
    "                # print(j*stride, j*stride+size)\n",
    "                patches_list.append(\n",
    "                    img_arr[\n",
    "                        i * stride : i * stride + size,\n",
    "                        j * stride : j * stride + size\n",
    "                    ]\n",
    "                )\n",
    "\n",
    "    elif img_arr.ndim == 4:\n",
    "        i_max = img_arr.shape[1] // stride - overlapping\n",
    "        for im in img_arr:\n",
    "            for i in range(i_max):\n",
    "                for j in range(i_max):\n",
    "                    # print(i*stride, i*stride+size)\n",
    "                    # print(j*stride, j*stride+size)\n",
    "                    patches_list.append(\n",
    "                        im[\n",
    "                            i * stride : i * stride + size,\n",
    "                            j * stride : j * stride + size,\n",
    "                        ]\n",
    "                    )\n",
    "\n",
    "    else:\n",
    "        raise ValueError(\"img_arr.ndim must be equal 3 or 4\")\n",
    "\n",
    "    return np.stack(patches_list)\n",
    "\n",
    "\n",
    "def plot_patches(img_arr, org_img_size, stride=None, size=None):\n",
    "    \"\"\"\n",
    "    Plots all the patches for the first image in 'img_arr' trying to reconstruct the original image\n",
    "    Args:\n",
    "        img_arr (numpy.ndarray): [description]\n",
    "        org_img_size (tuple): [description]\n",
    "        stride ([type], optional): [description]. Defaults to None.\n",
    "        size ([type], optional): [description]. Defaults to None.\n",
    "    Raises:\n",
    "        ValueError: [description]\n",
    "    \"\"\"\n",
    "\n",
    "    # check parameters\n",
    "    if type(org_img_size) is not tuple:\n",
    "        raise ValueError(\"org_image_size must be a tuple\")\n",
    "\n",
    "    if img_arr.ndim == 3:\n",
    "        img_arr = np.expand_dims(img_arr, axis=0)\n",
    "\n",
    "    if size is None:\n",
    "        size = img_arr.shape[1]\n",
    "\n",
    "    if stride is None:\n",
    "        stride = size\n",
    "\n",
    "    i_max = (org_img_size[0] // stride) + 1 - (size // stride)\n",
    "    j_max = (org_img_size[1] // stride) + 1 - (size // stride)\n",
    "\n",
    "    fig, axes = plt.subplots(i_max, j_max, figsize=(i_max * 2, j_max * 2))\n",
    "    fig.subplots_adjust(hspace=0.05, wspace=0.05)\n",
    "    jj = 0\n",
    "    for i in range(i_max):\n",
    "        for j in range(j_max):\n",
    "            axes[i, j].imshow(img_arr[jj])\n",
    "            axes[i, j].set_axis_off()\n",
    "            jj += 1\n",
    "\n",
    "\n",
    "def reconstruct_from_patches(img_arr, org_img_size, stride=None, size=None):\n",
    "    \"\"\"[summary]\n",
    "    \n",
    "    Args:\n",
    "        img_arr (numpy.ndarray): [description]\n",
    "        org_img_size (tuple): [description]\n",
    "        stride ([type], optional): [description]. Defaults to None.\n",
    "        size ([type], optional): [description]. Defaults to None.\n",
    "    \n",
    "    Raises:\n",
    "        ValueError: [description]\n",
    "    \n",
    "    Returns:\n",
    "        numpy.ndarray: [description]\n",
    "    \"\"\"\n",
    "    # check parameters\n",
    "    if type(org_img_size) is not tuple:\n",
    "        raise ValueError(\"org_image_size must be a tuple\")\n",
    "\n",
    "    if img_arr.ndim == 3:\n",
    "        img_arr = np.expand_dims(img_arr, axis=0)\n",
    "\n",
    "    if size is None:\n",
    "        size = img_arr.shape[1]\n",
    "\n",
    "    if stride is None:\n",
    "        stride = size\n",
    "\n",
    "    nm_layers = img_arr.shape[3]\n",
    "\n",
    "    i_max = (org_img_size[0] // stride) + 1 - (size // stride)\n",
    "    j_max = (org_img_size[1] // stride) + 1 - (size // stride)\n",
    "\n",
    "    total_nm_images = img_arr.shape[0] // (i_max ** 2)\n",
    "    nm_images = img_arr.shape[0]\n",
    "\n",
    "    averaging_value = size // stride\n",
    "    images_list = []\n",
    "    kk = 0\n",
    "    for img_count in range(total_nm_images):\n",
    "        img_bg = np.zeros(\n",
    "            (org_img_size[0], org_img_size[1], nm_layers), dtype=img_arr[0].dtype\n",
    "        )\n",
    "\n",
    "        for i in range(i_max):\n",
    "            for j in range(j_max):\n",
    "                for layer in range(nm_layers):\n",
    "                    img_bg[\n",
    "                        i * stride : i * stride + size,\n",
    "                        j * stride : j * stride + size,\n",
    "                        layer,\n",
    "                    ] = img_arr[kk, :, :, layer]\n",
    "\n",
    "                kk += 1\n",
    "        # TODO add averaging for masks - right now it's just overwritting\n",
    "\n",
    "        #         for layer in range(nm_layers):\n",
    "        #             # average some more because overlapping 4 patches\n",
    "        #             img_bg[stride:i_max*stride, stride:i_max*stride, layer] //= averaging_value\n",
    "        #             # corners:\n",
    "        #             img_bg[0:stride, 0:stride, layer] *= averaging_value\n",
    "        #             img_bg[i_max*stride:i_max*stride+stride, 0:stride, layer] *= averaging_value\n",
    "        #             img_bg[i_max*stride:i_max*stride+stride, i_max*stride:i_max*stride+stride, layer] *= averaging_value\n",
    "        #             img_bg[0:stride, i_max*stride:i_max*stride+stride, layer] *= averaging_value\n",
    "\n",
    "        images_list.append(img_bg)\n",
    "\n",
    "    return np.stack(images_list)"
   ]
  },
  {
   "cell_type": "markdown",
   "metadata": {},
   "source": [
    "### dicom_reader.py"
   ]
  },
  {
   "cell_type": "code",
   "execution_count": 1,
   "metadata": {},
   "outputs": [],
   "source": [
    "import numpy as np\n",
    "import pydicom\n",
    "\n",
    "def transform_to_hu(medical_image, image):\n",
    "    hu_image = image * medical_image.RescaleSlope + medical_image.RescaleIntercept\n",
    "    hu_image[hu_image < -1024] = -1024\n",
    "    return hu_image\n",
    "\n",
    "def apply_window(image, window_center, window_width):\n",
    "    window_image = image.copy()\n",
    "    image_min = window_center - (window_width / 2)\n",
    "    image_max = window_center + (window_width / 2)\n",
    "    window_image[window_image < image_min] = image_min\n",
    "    window_image[window_image > image_max] = image_max\n",
    "    return window_image\n",
    "\n",
    "def resize_normalize(image):\n",
    "    image = np.array(image, dtype=np.float64)\n",
    "    image -= np.min(image)\n",
    "    image /= np.max(image)\n",
    "    return image\n",
    "\n",
    "def read_dicom(path, window_width, window_level):\n",
    "    image_medical = pydicom.dcmread(path)\n",
    "    image_data = image_medical.pixel_array\n",
    "\n",
    "    image_hu = transform_to_hu(image_medical, image_data)\n",
    "    image_window = apply_window(image_hu.copy(), window_level, window_width)\n",
    "    image_window_norm = resize_normalize(image_window)\n",
    "\n",
    "    image_window_norm = np.expand_dims(image_window_norm, axis=2)   # (512, 512, 1)\n",
    "    image_ths = np.concatenate([image_window_norm, image_window_norm, image_window_norm], axis=2)   # (512, 512, 3)\n",
    "    return image_ths"
   ]
  },
  {
   "cell_type": "markdown",
   "metadata": {},
   "source": [
    "### rle_encode.py"
   ]
  },
  {
   "cell_type": "code",
   "execution_count": 2,
   "metadata": {},
   "outputs": [],
   "source": [
    "def rle_encode(mask_image):\n",
    "    pixels = mask_image.flatten()\n",
    "    # We avoid issues with '1' at the start or end (at the corners of\n",
    "    # the original image) by setting those pixels to '0' explicitly.\n",
    "    # We do not expect these to be non-zero for an accurate mask,\n",
    "    # so this should not harm the score.\n",
    "    pixels[0] = 0\n",
    "    pixels[-1] = 0\n",
    "    runs = np.where(pixels[1:] != pixels[:-1])[0] + 2\n",
    "    runs[1::2] = runs[1::2] - runs[:-1:2]\n",
    "    return runs"
   ]
  },
  {
   "cell_type": "markdown",
   "metadata": {},
   "source": [
    "# EDA"
   ]
  },
  {
   "cell_type": "code",
   "execution_count": 3,
   "metadata": {},
   "outputs": [
    {
     "name": "stdout",
     "output_type": "stream",
     "text": [
      "%pylab is deprecated, use %matplotlib inline and import the required libraries.\n",
      "Populating the interactive namespace from numpy and matplotlib\n"
     ]
    },
    {
     "name": "stderr",
     "output_type": "stream",
     "text": [
      "/home/fds/.local/lib/python3.10/site-packages/IPython/core/magics/pylab.py:162: UserWarning: pylab import has clobbered these variables: ['plt']\n",
      "`%matplotlib` prevents importing * from pylab and numpy\n",
      "  warn(\"pylab import has clobbered these variables: %s\"  % clobbered +\n"
     ]
    },
    {
     "data": {
      "image/png": "[encoded data removed]",
      "text/plain": [
       "<Figure size 432x288 with 1 Axes>"
      ]
     },
     "metadata": {
      "needs_background": "light"
     },
     "output_type": "display_data"
    }
   ],
   "source": [
    "import matplotlib.pylab as plt\n",
    "\n",
    "# specify your image path\n",
    "image_path = \"./train/dcm/case001.dcm\"\n",
    "im = read_dicom(image_path, 100, 50)\n",
    "%pylab inline\n",
    "imgplot = plt.imshow(im)\n",
    "plt.show()"
   ]
  },
  {
   "cell_type": "code",
   "execution_count": 4,
   "metadata": {},
   "outputs": [
    {
     "data": {
      "text/plain": [
       "(array([575385.,  10962.,  11985.,   9336.,   9585.,   9096.,   6900.,\n",
       "          5823.,   8037., 139323.]),\n",
       " array([0. , 0.1, 0.2, 0.3, 0.4, 0.5, 0.6, 0.7, 0.8, 0.9, 1. ]),\n",
       " <BarContainer object of 10 artists>)"
      ]
     },
     "execution_count": 4,
     "metadata": {},
     "output_type": "execute_result"
    },
    {
     "data": {
      "image/png": "[encoded data removed]",
      "text/plain": [
       "<Figure size 432x288 with 1 Axes>"
      ]
     },
     "metadata": {
      "needs_background": "light"
     },
     "output_type": "display_data"
    }
   ],
   "source": [
    "plt.hist(im.flatten(), color='c')"
   ]
  },
  {
   "cell_type": "code",
   "execution_count": 5,
   "metadata": {},
   "outputs": [
    {
     "data": {
      "text/plain": [
       "array([0.  , 0.01, 0.02, 0.03, 0.04, 0.05, 0.06, 0.07, 0.08, 0.09, 0.1 ,\n",
       "       0.11, 0.12, 0.13, 0.14, 0.15, 0.16, 0.17, 0.18, 0.19, 0.2 , 0.21,\n",
       "       0.22, 0.23, 0.24, 0.25, 0.26, 0.27, 0.28, 0.29, 0.3 , 0.31, 0.32,\n",
       "       0.33, 0.34, 0.35, 0.36, 0.37, 0.38, 0.39, 0.4 , 0.41, 0.42, 0.43,\n",
       "       0.44, 0.45, 0.46, 0.47, 0.48, 0.49, 0.5 , 0.51, 0.52, 0.53, 0.54,\n",
       "       0.55, 0.56, 0.57, 0.58, 0.59, 0.6 , 0.61, 0.62, 0.63, 0.64, 0.65,\n",
       "       0.66, 0.67, 0.68, 0.69, 0.7 , 0.71, 0.72, 0.73, 0.74, 0.75, 0.76,\n",
       "       0.77, 0.78, 0.79, 0.8 , 0.81, 0.82, 0.83, 0.84, 0.85, 0.86, 0.87,\n",
       "       0.88, 0.89, 0.9 , 0.91, 0.92, 0.93, 0.94, 0.95, 0.96, 0.97, 0.98,\n",
       "       0.99, 1.  ])"
      ]
     },
     "execution_count": 5,
     "metadata": {},
     "output_type": "execute_result"
    }
   ],
   "source": [
    "np.unique(im)"
   ]
  },
  {
   "cell_type": "code",
   "execution_count": 6,
   "metadata": {},
   "outputs": [],
   "source": [
    "import cv2\n",
    "import pydicom\n",
    "import matplotlib.image as mpimg\n",
    "import matplotlib.pyplot as plt\n",
    "import numpy as np"
   ]
  },
  {
   "cell_type": "code",
   "execution_count": 7,
   "metadata": {},
   "outputs": [
    {
     "data": {
      "text/plain": [
       "{0.0: 159566, 0.003921569: 72640, 0.007843138: 15781, 0.011764706: 14157}"
      ]
     },
     "execution_count": 7,
     "metadata": {},
     "output_type": "execute_result"
    }
   ],
   "source": [
    "im = mpimg.imread(\"./train/label/case003.png\")\n",
    "unique, counts = np.unique(im, return_counts=True)\n",
    "dict(zip(unique, counts))"
   ]
  },
  {
   "cell_type": "code",
   "execution_count": 8,
   "metadata": {},
   "outputs": [
    {
     "data": {
      "text/plain": [
       "array([0.        , 0.00392157, 0.00784314, 0.01176471], dtype=float32)"
      ]
     },
     "execution_count": 8,
     "metadata": {},
     "output_type": "execute_result"
    }
   ],
   "source": [
    "np.unique(im)"
   ]
  },
  {
   "cell_type": "code",
   "execution_count": 9,
   "metadata": {},
   "outputs": [
    {
     "name": "stdout",
     "output_type": "stream",
     "text": [
      "%pylab is deprecated, use %matplotlib inline and import the required libraries.\n",
      "Populating the interactive namespace from numpy and matplotlib\n"
     ]
    },
    {
     "name": "stderr",
     "output_type": "stream",
     "text": [
      "/home/fds/.local/lib/python3.10/site-packages/IPython/core/magics/pylab.py:162: UserWarning: pylab import has clobbered these variables: ['unique']\n",
      "`%matplotlib` prevents importing * from pylab and numpy\n",
      "  warn(\"pylab import has clobbered these variables: %s\"  % clobbered +\n"
     ]
    },
    {
     "data": {
      "image/png": "[encoded data removed]",
      "text/plain": [
       "<Figure size 432x288 with 1 Axes>"
      ]
     },
     "metadata": {
      "needs_background": "light"
     },
     "output_type": "display_data"
    },
    {
     "data": {
      "image/png": "[encoded data removed]",
      "text/plain": [
       "<Figure size 432x288 with 1 Axes>"
      ]
     },
     "metadata": {
      "needs_background": "light"
     },
     "output_type": "display_data"
    }
   ],
   "source": [
    "im = mpimg.imread(\"./train/label/case003.png\")\n",
    "im = np.around(im, 8)\n",
    "mask_1 = im <= 0.007843138\n",
    "mask_2 = im >= 0.011764706\n",
    "\n",
    "mask_3 = np.logical_and(mask_1, mask_2)\n",
    "mask_3\n",
    "# im = np.expand_dims(im, axis=-1)\n",
    "%pylab inline\n",
    "imgplot = plt.imshow(im)\n",
    "plt.show()\n",
    "mask_3_int = mask_2.astype(float)\n",
    "imgplot = plt.imshow(mask_3_int)\n",
    "plt.show()\n",
    "# https://github.com/tuvovan/Unet-with-EfficientnetB7-Backbone/blob/master/Body%20Morphometry.ipynb"
   ]
  },
  {
   "cell_type": "code",
   "execution_count": 10,
   "metadata": {},
   "outputs": [],
   "source": [
    "import os\n",
    "import sys\n",
    "import random\n",
    "import warnings\n",
    "\n",
    "import numpy as np\n",
    "import pandas as pd\n",
    "\n",
    "import matplotlib.pyplot as plt\n",
    "\n",
    "from tqdm import tqdm\n",
    "from itertools import chain\n",
    "from skimage.io import imread, imshow, imread_collection, concatenate_images\n",
    "from skimage.transform import resize\n",
    "from skimage.morphology import label\n",
    "\n",
    "# Set some parameters\n",
    "IMG_WIDTH = 512\n",
    "IMG_HEIGHT = 512\n",
    "IMG_CHANNELS = 3\n",
    "TRAIN_PATH_IMAGE = './train/dcm/'\n",
    "TRAIN_PATH_MASKS = './train/label/'\n",
    "TEST_PATH = './test/dcm/'\n",
    "\n",
    "warnings.filterwarnings('ignore', category=UserWarning, module='skimage')"
   ]
  },
  {
   "cell_type": "code",
   "execution_count": 11,
   "metadata": {},
   "outputs": [],
   "source": [
    "# Get train and test IDs\n",
    "train_ids = [f for f in sorted(os.listdir(TRAIN_PATH_IMAGE)) if os.path.isfile(os.path.join(TRAIN_PATH_IMAGE, f))]\n",
    "test_ids = [f for f in sorted(os.listdir(TEST_PATH)) if os.path.isfile(os.path.join(TEST_PATH, f))]"
   ]
  },
  {
   "cell_type": "code",
   "execution_count": 12,
   "metadata": {},
   "outputs": [],
   "source": [
    "def get_mask_innest(mask):\n",
    "    mask_1 = mask < 0.007843138\n",
    "    mask_2 = mask >= 0.003921569\n",
    "    mask_3 = np.logical_and(mask_1, mask_2)\n",
    "    mask_3_int = mask_3.astype(float)\n",
    "    return mask_3_int\n",
    "\n",
    "def get_mask_middle(mask):\n",
    "    mask_1 = mask < 0.011764706\n",
    "    mask_2 = mask >= 0.007843138\n",
    "    mask_3 = np.logical_and(mask_1, mask_2)\n",
    "    mask_3_int = mask_3.astype(float)\n",
    "    return mask_3_int\n",
    "\n",
    "def get_mask_outtest(mask):\n",
    "    mask_1 = mask < 0.011764706\n",
    "    mask_2 = mask >= 0.011764706\n",
    "    mask_3 = np.logical_and(mask_1, mask_2)\n",
    "    mask_3_int = mask_2.astype(float)\n",
    "    return mask_3_int\n",
    "# {0.0: 159566, 0.003921569: 72640, 0.007843138: 15781, 0.011764706: 14157}"
   ]
  },
  {
   "cell_type": "code",
   "execution_count": 13,
   "metadata": {},
   "outputs": [
    {
     "name": "stdout",
     "output_type": "stream",
     "text": [
      "Getting and resizing train images and masks\n"
     ]
    },
    {
     "name": "stderr",
     "output_type": "stream",
     "text": [
      "  4%|▍         | 4/100 [00:00<00:02, 39.78it/s]"
     ]
    },
    {
     "name": "stdout",
     "output_type": "stream",
     "text": [
      "0\n"
     ]
    },
    {
     "name": "stderr",
     "output_type": "stream",
     "text": [
      "100%|██████████| 100/100 [00:01<00:00, 50.10it/s]"
     ]
    },
    {
     "name": "stdout",
     "output_type": "stream",
     "text": [
      "Getting and resizing test images ... \n"
     ]
    },
    {
     "name": "stderr",
     "output_type": "stream",
     "text": [
      "\n",
      "100%|██████████| 50/50 [00:00<00:00, 94.48it/s] "
     ]
    },
    {
     "name": "stdout",
     "output_type": "stream",
     "text": [
      "Done!\n"
     ]
    },
    {
     "name": "stderr",
     "output_type": "stream",
     "text": [
      "\n"
     ]
    }
   ],
   "source": [
    "X_train = np.zeros((len(train_ids), IMG_HEIGHT, IMG_WIDTH, IMG_CHANNELS), dtype=np.float32)\n",
    "Y_train = np.zeros((len(train_ids), IMG_HEIGHT, IMG_WIDTH, IMG_CHANNELS), dtype=np.float32)\n",
    "print('Getting and resizing train images and masks')\n",
    "sys.stdout.flush()\n",
    "for n, id_ in tqdm(enumerate(train_ids), total=len(train_ids)):\n",
    "    if id_ == 'case001.dcm':\n",
    "        print(n)\n",
    "    path = TRAIN_PATH_IMAGE + id_\n",
    "    img = read_dicom(path, 100, 50)\n",
    "    X_train[n] = img\n",
    "    mask_path = TRAIN_PATH_MASKS + id_.replace('dcm', 'png')\n",
    "    mask = mpimg.imread(mask_path)\n",
    "    mask = np.around(mask, 8)\n",
    "\n",
    "    m_in = get_mask_innest(mask)\n",
    "    m_md = get_mask_middle(mask)\n",
    "    m_ot = get_mask_outtest(mask)\n",
    "    \n",
    "    m_in = np.expand_dims(m_in, axis=-1)\n",
    "    m_md = np.expand_dims(m_md, axis=-1)\n",
    "    m_ot = np.expand_dims(m_ot, axis=-1)\n",
    "    \n",
    "    m_fn = np.concatenate([m_in, m_md, m_ot], axis=-1)\n",
    "    \n",
    "    Y_train[n] = m_fn\n",
    "\n",
    "# Get and resize test images\n",
    "X_test = np.zeros((len(test_ids), IMG_HEIGHT, IMG_WIDTH, IMG_CHANNELS), dtype=np.float32)\n",
    "sizes_test = []\n",
    "print('Getting and resizing test images ... ')\n",
    "sys.stdout.flush()\n",
    "for n, id_ in tqdm(enumerate(test_ids), total=len(test_ids)):\n",
    "    path = TEST_PATH + id_\n",
    "    img = read_dicom(path, 100, 50)\n",
    "    X_test[n] = img\n",
    "\n",
    "print('Done!')"
   ]
  },
  {
   "cell_type": "code",
   "execution_count": 14,
   "metadata": {},
   "outputs": [],
   "source": [
    "# from sklearn.model_selection import train_test_split\n",
    "\n",
    "# x_train, x_val, y_train, y_val = train_test_split(X_train, Y_train, test_size=0.1, random_state=0)\n",
    "\n",
    "# print(\"x_train: \", x_train.shape)\n",
    "# print(\"y_train: \", y_train.shape)\n",
    "# print(\"x_val: \", x_val.shape)\n",
    "# print(\"y_val: \", y_val.shape)"
   ]
  },
  {
   "cell_type": "code",
   "execution_count": 23,
   "metadata": {},
   "outputs": [],
   "source": [
    "import cv2\n",
    "import numpy as np\n",
    "import torch\n",
    "from sklearn.model_selection import train_test_split\n",
    "\n",
    "from torch.utils.data import Dataset\n",
    "\n",
    "class MyCoolDataset(Dataset):\n",
    "\n",
    "    def __init__(self, train=True, transforms=None):\n",
    "        # all your data loading logic using cv2, glob ..\n",
    "        self.transforms = transforms\n",
    "        x_train, x_test, y_train, y_test = train_test_split(X_train, Y_train, test_size=0.1, random_state=4)\n",
    "        \n",
    "        # two modes - train and test\n",
    "        if train:\n",
    "            self.x_data, self.y_data = x_train, y_train\n",
    "        else:\n",
    "            self.x_data, self.y_data = x_test, y_test\n",
    "    \n",
    "    def __getitem__(self, i):\n",
    "        x = self.x_data[i] \n",
    "        y = self.y_data[i]\n",
    "\n",
    "        # result = {\"image\": x}\n",
    "        # result[\"mask\"] = y\n",
    "        if self.transforms is not None:\n",
    "            # result = self.transforms(**result)\n",
    "            x = self.transforms(x)\n",
    "            y = self.transforms(y)\n",
    "\n",
    "        # return result\n",
    "        return x, y\n",
    "\n",
    "\n",
    "    def __len__(self):\n",
    "        return len(self.y_data)"
   ]
  },
  {
   "cell_type": "code",
   "execution_count": 24,
   "metadata": {},
   "outputs": [],
   "source": [
    "from torchvision import transforms\n",
    "train_preprocess = transforms.Compose([\n",
    "    transforms.RandomHorizontalFlip(),\n",
    "    transforms.RandomVerticalFlip(),\n",
    "    transforms.ToTensor(),\n",
    "    transforms.Normalize(mean=(0.485, 0.456, 0.406), std=(0.229, 0.224, 0.225)),\n",
    "])\n",
    "val_preprocess = transforms.Compose([\n",
    "    transforms.ToTensor(),\n",
    "    transforms.Normalize(mean=(0.485, 0.456, 0.406), std=(0.229, 0.224, 0.225)),\n",
    "])"
   ]
  },
  {
   "cell_type": "code",
   "execution_count": 25,
   "metadata": {},
   "outputs": [],
   "source": [
    "from torch.utils.data import DataLoader\n",
    "\n",
    "train_dataloader = DataLoader(MyCoolDataset(True,train_preprocess), batch_size=2, shuffle=True, num_workers=8)\n",
    "valid_dataloader = DataLoader(MyCoolDataset(False,val_preprocess), batch_size=2, shuffle=False, num_workers=8)"
   ]
  },
  {
   "cell_type": "code",
   "execution_count": 26,
   "metadata": {},
   "outputs": [
    {
     "data": {
      "text/plain": [
       "<torch.utils.data.dataloader.DataLoader at 0x7f05b9e40910>"
      ]
     },
     "execution_count": 26,
     "metadata": {},
     "output_type": "execute_result"
    }
   ],
   "source": [
    "train_dataloader"
   ]
  },
  {
   "cell_type": "code",
   "execution_count": 32,
   "metadata": {},
   "outputs": [],
   "source": [
    "import os\n",
    "import torch\n",
    "import matplotlib.pyplot as plt\n",
    "import pytorch_lightning as pl\n",
    "import segmentation_models_pytorch as smp\n",
    "\n",
    "from pprint import pprint\n",
    "from torch.utils.data import DataLoader\n",
    "\n",
    "import torch.nn.functional as F"
   ]
  },
  {
   "cell_type": "code",
   "execution_count": 33,
   "metadata": {},
   "outputs": [],
   "source": [
    "class MorphometryModel(pl.LightningModule):\n",
    "\n",
    "    def __init__(self, arch, encoder_name, in_channels, out_classes, **kwargs):\n",
    "        super().__init__()\n",
    "        self.model = smp.create_model(\n",
    "            arch, encoder_name=encoder_name, in_channels=in_channels, classes=out_classes, **kwargs\n",
    "        )\n",
    "\n",
    "        # preprocessing parameteres for image\n",
    "        params = smp.encoders.get_preprocessing_params(encoder_name)\n",
    "        self.register_buffer(\"std\", torch.tensor(params[\"std\"]).view(1, 3, 1, 1))\n",
    "        self.register_buffer(\"mean\", torch.tensor(params[\"mean\"]).view(1, 3, 1, 1))\n",
    "\n",
    "        # for image segmentation dice loss could be the best first choice\n",
    "        # self.loss_fn = smp.losses.DiceLoss(smp.losses.MULTILABEL_MODE, from_logits=True)\n",
    "        self.loss_fn = smp.losses.DiceLoss(smp.losses.MULTILABEL_MODE, from_logits=True)\n",
    "\n",
    "    def forward(self, image):\n",
    "        # normalize image here\n",
    "        image = (image - self.mean) / self.std\n",
    "        mask = self.model(image)\n",
    "        return mask\n",
    "\n",
    "    def shared_step(self, batch, stage):\n",
    "        image, mask = batch\n",
    "\n",
    "        # # Shape of the image should be (batch_size, num_channels, height, width)\n",
    "        # # if you work with grayscale images, expand channels dim to have [batch_size, 1, height, width]\n",
    "        # assert image.ndim == 4\n",
    "\n",
    "        # # Check that image dimensions are divisible by 32, \n",
    "        # # encoder and decoder connected by `skip connections` and usually encoder have 5 stages of \n",
    "        # # downsampling by factor 2 (2 ^ 5 = 32); e.g. if we have image with shape 65x65 we will have \n",
    "        # # following shapes of features in encoder and decoder: 84, 42, 21, 10, 5 -> 5, 10, 20, 40, 80\n",
    "        # # and we will get an error trying to concat these features\n",
    "        # h, w = image.shape[2:]\n",
    "        # assert h % 32 == 0 and w % 32 == 0\n",
    "\n",
    "        # mask = batch[\"mask\"]\n",
    "\n",
    "        # # Shape of the mask should be [batch_size, num_classes, height, width]\n",
    "        # # for binary segmentation num_classes = 1\n",
    "        # assert mask.ndim == 4\n",
    "\n",
    "        # # Check that mask values in between 0 and 1, NOT 0 and 255 for binary segmentation\n",
    "        # assert mask.max() <= 1.0 and mask.min() >= 0\n",
    "\n",
    "        logits_mask = self.forward(image)\n",
    "        \n",
    "        # Predicted mask contains logits, and loss_fn param `from_logits` is set to True\n",
    "        loss = self.loss_fn(logits_mask, mask)\n",
    "\n",
    "        # Lets compute metrics for some threshold\n",
    "        # first convert mask values to probabilities, then \n",
    "        # apply thresholding\n",
    "        prob_mask = F.softmax(logits_mask, dim=1)\n",
    "        # pred_mask = (prob_mask > 0.5).float()\n",
    "        pred_mask = (prob_mask).float()\n",
    "\n",
    "        # We will compute IoU metric by two ways\n",
    "        #   1. dataset-wise\n",
    "        #   2. image-wise\n",
    "        # but for now we just compute true positive, false positive, false negative and\n",
    "        # true negative 'pixels' for each image and class\n",
    "        # these values will be aggregated in the end of an epoch\n",
    "        tp, fp, fn, tn = smp.metrics.get_stats(pred_mask.long(), mask.long(), mode=\"binary\")\n",
    "\n",
    "        return {\n",
    "            \"loss\": loss,\n",
    "            \"tp\": tp,\n",
    "            \"fp\": fp,\n",
    "            \"fn\": fn,\n",
    "            \"tn\": tn,\n",
    "        }\n",
    "\n",
    "    def shared_epoch_end(self, outputs, stage):\n",
    "        # aggregate step metics\n",
    "        tp = torch.cat([x[\"tp\"] for x in outputs])\n",
    "        fp = torch.cat([x[\"fp\"] for x in outputs])\n",
    "        fn = torch.cat([x[\"fn\"] for x in outputs])\n",
    "        tn = torch.cat([x[\"tn\"] for x in outputs])\n",
    "\n",
    "        # per image IoU means that we first calculate IoU score for each image \n",
    "        # and then compute mean over these scores\n",
    "        per_image_iou = smp.metrics.iou_score(tp, fp, fn, tn, reduction=\"micro-imagewise\")\n",
    "        \n",
    "        # dataset IoU means that we aggregate intersection and union over whole dataset\n",
    "        # and then compute IoU score. The difference between dataset_iou and per_image_iou scores\n",
    "        # in this particular case will not be much, however for dataset \n",
    "        # with \"empty\" images (images without target class) a large gap could be observed. \n",
    "        # Empty images influence a lot on per_image_iou and much less on dataset_iou.\n",
    "        dataset_iou = smp.metrics.iou_score(tp, fp, fn, tn, reduction=\"micro\")\n",
    "\n",
    "        metrics = {\n",
    "            f\"{stage}_per_image_iou\": per_image_iou,\n",
    "            f\"{stage}_dataset_iou\": dataset_iou,\n",
    "        }\n",
    "        \n",
    "        self.log_dict(metrics, prog_bar=True)\n",
    "\n",
    "    def training_step(self, batch, batch_idx):\n",
    "        return self.shared_step(batch, \"train\")            \n",
    "\n",
    "    def training_epoch_end(self, outputs):\n",
    "        return self.shared_epoch_end(outputs, \"train\")\n",
    "\n",
    "    def validation_step(self, batch, batch_idx):\n",
    "        return self.shared_step(batch, \"valid\")\n",
    "\n",
    "    def validation_epoch_end(self, outputs):\n",
    "        return self.shared_epoch_end(outputs, \"valid\")\n",
    "\n",
    "    def test_step(self, batch, batch_idx):\n",
    "        return self.shared_step(batch, \"test\")  \n",
    "\n",
    "    def test_epoch_end(self, outputs):\n",
    "        return self.shared_epoch_end(outputs, \"test\")\n",
    "\n",
    "    def configure_optimizers(self):\n",
    "        return torch.optim.AdamW(self.parameters(), lr=0.0001)"
   ]
  },
  {
   "cell_type": "code",
   "execution_count": 34,
   "metadata": {},
   "outputs": [],
   "source": [
    "model = MorphometryModel(\"Unet\", \"efficientnet-b5\", in_channels=3, out_classes=3)"
   ]
  },
  {
   "cell_type": "code",
   "execution_count": 36,
   "metadata": {},
   "outputs": [
    {
     "name": "stderr",
     "output_type": "stream",
     "text": [
      "GPU available: True, used: True\n",
      "TPU available: False, using: 0 TPU cores\n",
      "IPU available: False, using: 0 IPUs\n",
      "LOCAL_RANK: 0 - CUDA_VISIBLE_DEVICES: [0]\n",
      "\n",
      "  | Name    | Type     | Params\n",
      "-------------------------------------\n",
      "0 | model   | Unet     | 31.2 M\n",
      "1 | loss_fn | DiceLoss | 0     \n",
      "-------------------------------------\n",
      "31.2 M    Trainable params\n",
      "0         Non-trainable params\n",
      "31.2 M    Total params\n",
      "124.865   Total estimated model params size (MB)\n"
     ]
    },
    {
     "data": {
      "application/vnd.jupyter.widget-view+json": {
       "model_id": "a02b27f4c50146c59bc18cb9d642f4dc",
       "version_major": 2,
       "version_minor": 0
      },
      "text/plain": [
       "Validation sanity check: 0it [00:00, ?it/s]"
      ]
     },
     "metadata": {},
     "output_type": "display_data"
    },
    {
     "data": {
      "application/vnd.jupyter.widget-view+json": {
       "model_id": "eac0aa6bc5df414ea61dfd885ae0ff66",
       "version_major": 2,
       "version_minor": 0
      },
      "text/plain": [
       "Training: 0it [00:00, ?it/s]"
      ]
     },
     "metadata": {},
     "output_type": "display_data"
    },
    {
     "ename": "TypeError",
     "evalue": "Caught TypeError in DataLoader worker process 0.\nOriginal Traceback (most recent call last):\n  File \"/home/fds/miniconda3/envs/py310_pytorch/lib/python3.10/site-packages/torch/utils/data/_utils/worker.py\", line 302, in _worker_loop\n    data = fetcher.fetch(index)\n  File \"/home/fds/miniconda3/envs/py310_pytorch/lib/python3.10/site-packages/torch/utils/data/_utils/fetch.py\", line 49, in fetch\n    data = [self.dataset[idx] for idx in possibly_batched_index]\n  File \"/home/fds/miniconda3/envs/py310_pytorch/lib/python3.10/site-packages/torch/utils/data/_utils/fetch.py\", line 49, in <listcomp>\n    data = [self.dataset[idx] for idx in possibly_batched_index]\n  File \"/tmp/ipykernel_1962280/4117535082.py\", line 29, in __getitem__\n    x = self.transforms(x)\n  File \"/home/fds/miniconda3/envs/py310_pytorch/lib/python3.10/site-packages/torchvision/transforms/transforms.py\", line 94, in __call__\n    img = t(img)\n  File \"/home/fds/miniconda3/envs/py310_pytorch/lib/python3.10/site-packages/torch/nn/modules/module.py\", line 1130, in _call_impl\n    return forward_call(*input, **kwargs)\n  File \"/home/fds/miniconda3/envs/py310_pytorch/lib/python3.10/site-packages/torchvision/transforms/transforms.py\", line 739, in forward\n    return F.vflip(img)\n  File \"/home/fds/miniconda3/envs/py310_pytorch/lib/python3.10/site-packages/torchvision/transforms/functional.py\", line 706, in vflip\n    return F_pil.vflip(img)\n  File \"/home/fds/miniconda3/envs/py310_pytorch/lib/python3.10/site-packages/torchvision/transforms/functional_pil.py\", line 64, in vflip\n    raise TypeError(f\"img should be PIL Image. Got {type(img)}\")\nTypeError: img should be PIL Image. Got <class 'numpy.ndarray'>\n",
     "output_type": "error",
     "traceback": [
      "\u001b[0;31m---------------------------------------------------------------------------\u001b[0m",
      "\u001b[0;31mTypeError\u001b[0m                                 Traceback (most recent call last)",
      "\u001b[1;32m/home/fds/Downloads/MOAI_2022_Body_Morphometry_AI_Segmentation_Online_Challenge/Body_Morphometry_Chest.ipynb Cell 25\u001b[0m in \u001b[0;36m<cell line: 6>\u001b[0;34m()\u001b[0m\n\u001b[1;32m      <a href='vscode-notebook-cell:/home/fds/Downloads/MOAI_2022_Body_Morphometry_AI_Segmentation_Online_Challenge/Body_Morphometry_Chest.ipynb#X55sZmlsZQ%3D%3D?line=0'>1</a>\u001b[0m trainer \u001b[39m=\u001b[39m pl\u001b[39m.\u001b[39mTrainer(\n\u001b[1;32m      <a href='vscode-notebook-cell:/home/fds/Downloads/MOAI_2022_Body_Morphometry_AI_Segmentation_Online_Challenge/Body_Morphometry_Chest.ipynb#X55sZmlsZQ%3D%3D?line=1'>2</a>\u001b[0m     gpus\u001b[39m=\u001b[39m\u001b[39m1\u001b[39m, \n\u001b[1;32m      <a href='vscode-notebook-cell:/home/fds/Downloads/MOAI_2022_Body_Morphometry_AI_Segmentation_Online_Challenge/Body_Morphometry_Chest.ipynb#X55sZmlsZQ%3D%3D?line=2'>3</a>\u001b[0m     max_epochs\u001b[39m=\u001b[39m\u001b[39m5\u001b[39m,\n\u001b[1;32m      <a href='vscode-notebook-cell:/home/fds/Downloads/MOAI_2022_Body_Morphometry_AI_Segmentation_Online_Challenge/Body_Morphometry_Chest.ipynb#X55sZmlsZQ%3D%3D?line=3'>4</a>\u001b[0m )\n\u001b[0;32m----> <a href='vscode-notebook-cell:/home/fds/Downloads/MOAI_2022_Body_Morphometry_AI_Segmentation_Online_Challenge/Body_Morphometry_Chest.ipynb#X55sZmlsZQ%3D%3D?line=5'>6</a>\u001b[0m trainer\u001b[39m.\u001b[39;49mfit(\n\u001b[1;32m      <a href='vscode-notebook-cell:/home/fds/Downloads/MOAI_2022_Body_Morphometry_AI_Segmentation_Online_Challenge/Body_Morphometry_Chest.ipynb#X55sZmlsZQ%3D%3D?line=6'>7</a>\u001b[0m     model, \n\u001b[1;32m      <a href='vscode-notebook-cell:/home/fds/Downloads/MOAI_2022_Body_Morphometry_AI_Segmentation_Online_Challenge/Body_Morphometry_Chest.ipynb#X55sZmlsZQ%3D%3D?line=7'>8</a>\u001b[0m     train_dataloaders\u001b[39m=\u001b[39;49mtrain_dataloader, \n\u001b[1;32m      <a href='vscode-notebook-cell:/home/fds/Downloads/MOAI_2022_Body_Morphometry_AI_Segmentation_Online_Challenge/Body_Morphometry_Chest.ipynb#X55sZmlsZQ%3D%3D?line=8'>9</a>\u001b[0m     val_dataloaders\u001b[39m=\u001b[39;49mvalid_dataloader,\n\u001b[1;32m     <a href='vscode-notebook-cell:/home/fds/Downloads/MOAI_2022_Body_Morphometry_AI_Segmentation_Online_Challenge/Body_Morphometry_Chest.ipynb#X55sZmlsZQ%3D%3D?line=9'>10</a>\u001b[0m )\n",
      "File \u001b[0;32m~/miniconda3/envs/py310_pytorch/lib/python3.10/site-packages/pytorch_lightning-1.5.9-py3.10.egg/pytorch_lightning/trainer/trainer.py:740\u001b[0m, in \u001b[0;36mTrainer.fit\u001b[0;34m(self, model, train_dataloaders, val_dataloaders, datamodule, train_dataloader, ckpt_path)\u001b[0m\n\u001b[1;32m    735\u001b[0m     rank_zero_deprecation(\n\u001b[1;32m    736\u001b[0m         \u001b[39m\"\u001b[39m\u001b[39m`trainer.fit(train_dataloader)` is deprecated in v1.4 and will be removed in v1.6.\u001b[39m\u001b[39m\"\u001b[39m\n\u001b[1;32m    737\u001b[0m         \u001b[39m\"\u001b[39m\u001b[39m Use `trainer.fit(train_dataloaders)` instead. HINT: added \u001b[39m\u001b[39m'\u001b[39m\u001b[39ms\u001b[39m\u001b[39m'\u001b[39m\u001b[39m\"\u001b[39m\n\u001b[1;32m    738\u001b[0m     )\n\u001b[1;32m    739\u001b[0m     train_dataloaders \u001b[39m=\u001b[39m train_dataloader\n\u001b[0;32m--> 740\u001b[0m \u001b[39mself\u001b[39;49m\u001b[39m.\u001b[39;49m_call_and_handle_interrupt(\n\u001b[1;32m    741\u001b[0m     \u001b[39mself\u001b[39;49m\u001b[39m.\u001b[39;49m_fit_impl, model, train_dataloaders, val_dataloaders, datamodule, ckpt_path\n\u001b[1;32m    742\u001b[0m )\n",
      "File \u001b[0;32m~/miniconda3/envs/py310_pytorch/lib/python3.10/site-packages/pytorch_lightning-1.5.9-py3.10.egg/pytorch_lightning/trainer/trainer.py:685\u001b[0m, in \u001b[0;36mTrainer._call_and_handle_interrupt\u001b[0;34m(self, trainer_fn, *args, **kwargs)\u001b[0m\n\u001b[1;32m    675\u001b[0m \u001b[39mr\u001b[39m\u001b[39m\"\"\"\u001b[39;00m\n\u001b[1;32m    676\u001b[0m \u001b[39mError handling, intended to be used only for main trainer function entry points (fit, validate, test, predict)\u001b[39;00m\n\u001b[1;32m    677\u001b[0m \u001b[39mas all errors should funnel through them\u001b[39;00m\n\u001b[0;32m   (...)\u001b[0m\n\u001b[1;32m    682\u001b[0m \u001b[39m    **kwargs: keyword arguments to be passed to `trainer_fn`\u001b[39;00m\n\u001b[1;32m    683\u001b[0m \u001b[39m\"\"\"\u001b[39;00m\n\u001b[1;32m    684\u001b[0m \u001b[39mtry\u001b[39;00m:\n\u001b[0;32m--> 685\u001b[0m     \u001b[39mreturn\u001b[39;00m trainer_fn(\u001b[39m*\u001b[39;49margs, \u001b[39m*\u001b[39;49m\u001b[39m*\u001b[39;49mkwargs)\n\u001b[1;32m    686\u001b[0m \u001b[39m# TODO: treat KeyboardInterrupt as BaseException (delete the code below) in v1.7\u001b[39;00m\n\u001b[1;32m    687\u001b[0m \u001b[39mexcept\u001b[39;00m \u001b[39mKeyboardInterrupt\u001b[39;00m \u001b[39mas\u001b[39;00m exception:\n",
      "File \u001b[0;32m~/miniconda3/envs/py310_pytorch/lib/python3.10/site-packages/pytorch_lightning-1.5.9-py3.10.egg/pytorch_lightning/trainer/trainer.py:777\u001b[0m, in \u001b[0;36mTrainer._fit_impl\u001b[0;34m(self, model, train_dataloaders, val_dataloaders, datamodule, ckpt_path)\u001b[0m\n\u001b[1;32m    775\u001b[0m \u001b[39m# TODO: ckpt_path only in v1.7\u001b[39;00m\n\u001b[1;32m    776\u001b[0m ckpt_path \u001b[39m=\u001b[39m ckpt_path \u001b[39mor\u001b[39;00m \u001b[39mself\u001b[39m\u001b[39m.\u001b[39mresume_from_checkpoint\n\u001b[0;32m--> 777\u001b[0m \u001b[39mself\u001b[39;49m\u001b[39m.\u001b[39;49m_run(model, ckpt_path\u001b[39m=\u001b[39;49mckpt_path)\n\u001b[1;32m    779\u001b[0m \u001b[39massert\u001b[39;00m \u001b[39mself\u001b[39m\u001b[39m.\u001b[39mstate\u001b[39m.\u001b[39mstopped\n\u001b[1;32m    780\u001b[0m \u001b[39mself\u001b[39m\u001b[39m.\u001b[39mtraining \u001b[39m=\u001b[39m \u001b[39mFalse\u001b[39;00m\n",
      "File \u001b[0;32m~/miniconda3/envs/py310_pytorch/lib/python3.10/site-packages/pytorch_lightning-1.5.9-py3.10.egg/pytorch_lightning/trainer/trainer.py:1199\u001b[0m, in \u001b[0;36mTrainer._run\u001b[0;34m(self, model, ckpt_path)\u001b[0m\n\u001b[1;32m   1196\u001b[0m \u001b[39mself\u001b[39m\u001b[39m.\u001b[39mcheckpoint_connector\u001b[39m.\u001b[39mresume_end()\n\u001b[1;32m   1198\u001b[0m \u001b[39m# dispatch `start_training` or `start_evaluating` or `start_predicting`\u001b[39;00m\n\u001b[0;32m-> 1199\u001b[0m \u001b[39mself\u001b[39;49m\u001b[39m.\u001b[39;49m_dispatch()\n\u001b[1;32m   1201\u001b[0m \u001b[39m# plugin will finalized fitting (e.g. ddp_spawn will load trained model)\u001b[39;00m\n\u001b[1;32m   1202\u001b[0m \u001b[39mself\u001b[39m\u001b[39m.\u001b[39m_post_dispatch()\n",
      "File \u001b[0;32m~/miniconda3/envs/py310_pytorch/lib/python3.10/site-packages/pytorch_lightning-1.5.9-py3.10.egg/pytorch_lightning/trainer/trainer.py:1279\u001b[0m, in \u001b[0;36mTrainer._dispatch\u001b[0;34m(self)\u001b[0m\n\u001b[1;32m   1277\u001b[0m     \u001b[39mself\u001b[39m\u001b[39m.\u001b[39mtraining_type_plugin\u001b[39m.\u001b[39mstart_predicting(\u001b[39mself\u001b[39m)\n\u001b[1;32m   1278\u001b[0m \u001b[39melse\u001b[39;00m:\n\u001b[0;32m-> 1279\u001b[0m     \u001b[39mself\u001b[39;49m\u001b[39m.\u001b[39;49mtraining_type_plugin\u001b[39m.\u001b[39;49mstart_training(\u001b[39mself\u001b[39;49m)\n",
      "File \u001b[0;32m~/miniconda3/envs/py310_pytorch/lib/python3.10/site-packages/pytorch_lightning-1.5.9-py3.10.egg/pytorch_lightning/plugins/training_type/training_type_plugin.py:202\u001b[0m, in \u001b[0;36mTrainingTypePlugin.start_training\u001b[0;34m(self, trainer)\u001b[0m\n\u001b[1;32m    200\u001b[0m \u001b[39mdef\u001b[39;00m \u001b[39mstart_training\u001b[39m(\u001b[39mself\u001b[39m, trainer: \u001b[39m\"\u001b[39m\u001b[39mpl.Trainer\u001b[39m\u001b[39m\"\u001b[39m) \u001b[39m-\u001b[39m\u001b[39m>\u001b[39m \u001b[39mNone\u001b[39;00m:\n\u001b[1;32m    201\u001b[0m     \u001b[39m# double dispatch to initiate the training loop\u001b[39;00m\n\u001b[0;32m--> 202\u001b[0m     \u001b[39mself\u001b[39m\u001b[39m.\u001b[39m_results \u001b[39m=\u001b[39m trainer\u001b[39m.\u001b[39;49mrun_stage()\n",
      "File \u001b[0;32m~/miniconda3/envs/py310_pytorch/lib/python3.10/site-packages/pytorch_lightning-1.5.9-py3.10.egg/pytorch_lightning/trainer/trainer.py:1289\u001b[0m, in \u001b[0;36mTrainer.run_stage\u001b[0;34m(self)\u001b[0m\n\u001b[1;32m   1287\u001b[0m \u001b[39mif\u001b[39;00m \u001b[39mself\u001b[39m\u001b[39m.\u001b[39mpredicting:\n\u001b[1;32m   1288\u001b[0m     \u001b[39mreturn\u001b[39;00m \u001b[39mself\u001b[39m\u001b[39m.\u001b[39m_run_predict()\n\u001b[0;32m-> 1289\u001b[0m \u001b[39mreturn\u001b[39;00m \u001b[39mself\u001b[39;49m\u001b[39m.\u001b[39;49m_run_train()\n",
      "File \u001b[0;32m~/miniconda3/envs/py310_pytorch/lib/python3.10/site-packages/pytorch_lightning-1.5.9-py3.10.egg/pytorch_lightning/trainer/trainer.py:1319\u001b[0m, in \u001b[0;36mTrainer._run_train\u001b[0;34m(self)\u001b[0m\n\u001b[1;32m   1317\u001b[0m \u001b[39mself\u001b[39m\u001b[39m.\u001b[39mfit_loop\u001b[39m.\u001b[39mtrainer \u001b[39m=\u001b[39m \u001b[39mself\u001b[39m\n\u001b[1;32m   1318\u001b[0m \u001b[39mwith\u001b[39;00m torch\u001b[39m.\u001b[39mautograd\u001b[39m.\u001b[39mset_detect_anomaly(\u001b[39mself\u001b[39m\u001b[39m.\u001b[39m_detect_anomaly):\n\u001b[0;32m-> 1319\u001b[0m     \u001b[39mself\u001b[39;49m\u001b[39m.\u001b[39;49mfit_loop\u001b[39m.\u001b[39;49mrun()\n",
      "File \u001b[0;32m~/miniconda3/envs/py310_pytorch/lib/python3.10/site-packages/pytorch_lightning-1.5.9-py3.10.egg/pytorch_lightning/loops/base.py:145\u001b[0m, in \u001b[0;36mLoop.run\u001b[0;34m(self, *args, **kwargs)\u001b[0m\n\u001b[1;32m    143\u001b[0m \u001b[39mtry\u001b[39;00m:\n\u001b[1;32m    144\u001b[0m     \u001b[39mself\u001b[39m\u001b[39m.\u001b[39mon_advance_start(\u001b[39m*\u001b[39margs, \u001b[39m*\u001b[39m\u001b[39m*\u001b[39mkwargs)\n\u001b[0;32m--> 145\u001b[0m     \u001b[39mself\u001b[39;49m\u001b[39m.\u001b[39;49madvance(\u001b[39m*\u001b[39;49margs, \u001b[39m*\u001b[39;49m\u001b[39m*\u001b[39;49mkwargs)\n\u001b[1;32m    146\u001b[0m     \u001b[39mself\u001b[39m\u001b[39m.\u001b[39mon_advance_end()\n\u001b[1;32m    147\u001b[0m     \u001b[39mself\u001b[39m\u001b[39m.\u001b[39mrestarting \u001b[39m=\u001b[39m \u001b[39mFalse\u001b[39;00m\n",
      "File \u001b[0;32m~/miniconda3/envs/py310_pytorch/lib/python3.10/site-packages/pytorch_lightning-1.5.9-py3.10.egg/pytorch_lightning/loops/fit_loop.py:234\u001b[0m, in \u001b[0;36mFitLoop.advance\u001b[0;34m(self)\u001b[0m\n\u001b[1;32m    231\u001b[0m data_fetcher \u001b[39m=\u001b[39m \u001b[39mself\u001b[39m\u001b[39m.\u001b[39mtrainer\u001b[39m.\u001b[39m_data_connector\u001b[39m.\u001b[39mget_profiled_dataloader(dataloader)\n\u001b[1;32m    233\u001b[0m \u001b[39mwith\u001b[39;00m \u001b[39mself\u001b[39m\u001b[39m.\u001b[39mtrainer\u001b[39m.\u001b[39mprofiler\u001b[39m.\u001b[39mprofile(\u001b[39m\"\u001b[39m\u001b[39mrun_training_epoch\u001b[39m\u001b[39m\"\u001b[39m):\n\u001b[0;32m--> 234\u001b[0m     \u001b[39mself\u001b[39;49m\u001b[39m.\u001b[39;49mepoch_loop\u001b[39m.\u001b[39;49mrun(data_fetcher)\n\u001b[1;32m    236\u001b[0m     \u001b[39m# the global step is manually decreased here due to backwards compatibility with existing loggers\u001b[39;00m\n\u001b[1;32m    237\u001b[0m     \u001b[39m# as they expect that the same step is used when logging epoch end metrics even when the batch loop has\u001b[39;00m\n\u001b[1;32m    238\u001b[0m     \u001b[39m# finished. this means the attribute does not exactly track the number of optimizer steps applied.\u001b[39;00m\n\u001b[1;32m    239\u001b[0m     \u001b[39m# TODO(@carmocca): deprecate and rename so users don't get confused\u001b[39;00m\n\u001b[1;32m    240\u001b[0m     \u001b[39mself\u001b[39m\u001b[39m.\u001b[39mglobal_step \u001b[39m-\u001b[39m\u001b[39m=\u001b[39m \u001b[39m1\u001b[39m\n",
      "File \u001b[0;32m~/miniconda3/envs/py310_pytorch/lib/python3.10/site-packages/pytorch_lightning-1.5.9-py3.10.egg/pytorch_lightning/loops/base.py:140\u001b[0m, in \u001b[0;36mLoop.run\u001b[0;34m(self, *args, **kwargs)\u001b[0m\n\u001b[1;32m    136\u001b[0m     \u001b[39mreturn\u001b[39;00m \u001b[39mself\u001b[39m\u001b[39m.\u001b[39mon_skip()\n\u001b[1;32m    138\u001b[0m \u001b[39mself\u001b[39m\u001b[39m.\u001b[39mreset()\n\u001b[0;32m--> 140\u001b[0m \u001b[39mself\u001b[39;49m\u001b[39m.\u001b[39;49mon_run_start(\u001b[39m*\u001b[39;49margs, \u001b[39m*\u001b[39;49m\u001b[39m*\u001b[39;49mkwargs)\n\u001b[1;32m    142\u001b[0m \u001b[39mwhile\u001b[39;00m \u001b[39mnot\u001b[39;00m \u001b[39mself\u001b[39m\u001b[39m.\u001b[39mdone:\n\u001b[1;32m    143\u001b[0m     \u001b[39mtry\u001b[39;00m:\n",
      "File \u001b[0;32m~/miniconda3/envs/py310_pytorch/lib/python3.10/site-packages/pytorch_lightning-1.5.9-py3.10.egg/pytorch_lightning/loops/epoch/training_epoch_loop.py:141\u001b[0m, in \u001b[0;36mTrainingEpochLoop.on_run_start\u001b[0;34m(self, data_fetcher, **kwargs)\u001b[0m\n\u001b[1;32m    138\u001b[0m \u001b[39mself\u001b[39m\u001b[39m.\u001b[39mtrainer\u001b[39m.\u001b[39mfit_loop\u001b[39m.\u001b[39mepoch_progress\u001b[39m.\u001b[39mincrement_started()\n\u001b[1;32m    140\u001b[0m \u001b[39mself\u001b[39m\u001b[39m.\u001b[39m_reload_dataloader_state_dict(data_fetcher)\n\u001b[0;32m--> 141\u001b[0m \u001b[39mself\u001b[39m\u001b[39m.\u001b[39m_dataloader_iter \u001b[39m=\u001b[39m _update_dataloader_iter(data_fetcher, \u001b[39mself\u001b[39;49m\u001b[39m.\u001b[39;49mbatch_idx \u001b[39m+\u001b[39;49m \u001b[39m1\u001b[39;49m)\n",
      "File \u001b[0;32m~/miniconda3/envs/py310_pytorch/lib/python3.10/site-packages/pytorch_lightning-1.5.9-py3.10.egg/pytorch_lightning/loops/utilities.py:121\u001b[0m, in \u001b[0;36m_update_dataloader_iter\u001b[0;34m(data_fetcher, batch_idx)\u001b[0m\n\u001b[1;32m    118\u001b[0m \u001b[39m\"\"\"Attach the dataloader.\"\"\"\u001b[39;00m\n\u001b[1;32m    119\u001b[0m \u001b[39mif\u001b[39;00m \u001b[39mnot\u001b[39;00m \u001b[39misinstance\u001b[39m(data_fetcher, DataLoaderIterDataFetcher):\n\u001b[1;32m    120\u001b[0m     \u001b[39m# restore iteration\u001b[39;00m\n\u001b[0;32m--> 121\u001b[0m     dataloader_iter \u001b[39m=\u001b[39m \u001b[39menumerate\u001b[39;49m(data_fetcher, batch_idx)\n\u001b[1;32m    122\u001b[0m \u001b[39melse\u001b[39;00m:\n\u001b[1;32m    123\u001b[0m     dataloader_iter \u001b[39m=\u001b[39m \u001b[39miter\u001b[39m(data_fetcher)\n",
      "File \u001b[0;32m~/miniconda3/envs/py310_pytorch/lib/python3.10/site-packages/pytorch_lightning-1.5.9-py3.10.egg/pytorch_lightning/utilities/fetching.py:199\u001b[0m, in \u001b[0;36mAbstractDataFetcher.__iter__\u001b[0;34m(self)\u001b[0m\n\u001b[1;32m    197\u001b[0m \u001b[39mself\u001b[39m\u001b[39m.\u001b[39mdataloader_iter \u001b[39m=\u001b[39m \u001b[39miter\u001b[39m(\u001b[39mself\u001b[39m\u001b[39m.\u001b[39mdataloader)\n\u001b[1;32m    198\u001b[0m \u001b[39mself\u001b[39m\u001b[39m.\u001b[39m_apply_patch()\n\u001b[0;32m--> 199\u001b[0m \u001b[39mself\u001b[39;49m\u001b[39m.\u001b[39;49mprefetching(\u001b[39mself\u001b[39;49m\u001b[39m.\u001b[39;49mprefetch_batches)\n\u001b[1;32m    200\u001b[0m \u001b[39mreturn\u001b[39;00m \u001b[39mself\u001b[39m\n",
      "File \u001b[0;32m~/miniconda3/envs/py310_pytorch/lib/python3.10/site-packages/pytorch_lightning-1.5.9-py3.10.egg/pytorch_lightning/utilities/fetching.py:258\u001b[0m, in \u001b[0;36mDataFetcher.prefetching\u001b[0;34m(self, prefetch_batches)\u001b[0m\n\u001b[1;32m    256\u001b[0m \u001b[39mfor\u001b[39;00m _ \u001b[39min\u001b[39;00m \u001b[39mrange\u001b[39m(prefetch_batches):\n\u001b[1;32m    257\u001b[0m     \u001b[39mtry\u001b[39;00m:\n\u001b[0;32m--> 258\u001b[0m         \u001b[39mself\u001b[39;49m\u001b[39m.\u001b[39;49m_fetch_next_batch()\n\u001b[1;32m    259\u001b[0m     \u001b[39mexcept\u001b[39;00m \u001b[39mStopIteration\u001b[39;00m:\n\u001b[1;32m    260\u001b[0m         \u001b[39mbreak\u001b[39;00m\n",
      "File \u001b[0;32m~/miniconda3/envs/py310_pytorch/lib/python3.10/site-packages/pytorch_lightning-1.5.9-py3.10.egg/pytorch_lightning/utilities/fetching.py:300\u001b[0m, in \u001b[0;36mDataFetcher._fetch_next_batch\u001b[0;34m(self)\u001b[0m\n\u001b[1;32m    298\u001b[0m data \u001b[39m=\u001b[39m \u001b[39mself\u001b[39m\u001b[39m.\u001b[39mon_fetch_start()\n\u001b[1;32m    299\u001b[0m \u001b[39mwith\u001b[39;00m \u001b[39mself\u001b[39m\u001b[39m.\u001b[39mapply_profiler(\u001b[39mf\u001b[39m\u001b[39m\"\u001b[39m\u001b[39mfetch_next_\u001b[39m\u001b[39m{\u001b[39;00m\u001b[39mself\u001b[39m\u001b[39m.\u001b[39mstage\u001b[39m}\u001b[39;00m\u001b[39m_batch\u001b[39m\u001b[39m\"\u001b[39m):\n\u001b[0;32m--> 300\u001b[0m     batch \u001b[39m=\u001b[39m \u001b[39mnext\u001b[39;49m(\u001b[39mself\u001b[39;49m\u001b[39m.\u001b[39;49mdataloader_iter)\n\u001b[1;32m    301\u001b[0m \u001b[39mself\u001b[39m\u001b[39m.\u001b[39mfetched \u001b[39m+\u001b[39m\u001b[39m=\u001b[39m \u001b[39m1\u001b[39m\n\u001b[1;32m    302\u001b[0m \u001b[39mself\u001b[39m\u001b[39m.\u001b[39mon_fetch_end(batch, data)\n",
      "File \u001b[0;32m~/miniconda3/envs/py310_pytorch/lib/python3.10/site-packages/pytorch_lightning-1.5.9-py3.10.egg/pytorch_lightning/trainer/supporters.py:550\u001b[0m, in \u001b[0;36mCombinedLoaderIterator.__next__\u001b[0;34m(self)\u001b[0m\n\u001b[1;32m    544\u001b[0m \u001b[39mdef\u001b[39;00m \u001b[39m__next__\u001b[39m(\u001b[39mself\u001b[39m) \u001b[39m-\u001b[39m\u001b[39m>\u001b[39m Any:\n\u001b[1;32m    545\u001b[0m     \u001b[39m\"\"\"Fetches the next batch from multiple data loaders.\u001b[39;00m\n\u001b[1;32m    546\u001b[0m \n\u001b[1;32m    547\u001b[0m \u001b[39m    Returns:\u001b[39;00m\n\u001b[1;32m    548\u001b[0m \u001b[39m        a collections of batch data\u001b[39;00m\n\u001b[1;32m    549\u001b[0m \u001b[39m    \"\"\"\u001b[39;00m\n\u001b[0;32m--> 550\u001b[0m     \u001b[39mreturn\u001b[39;00m \u001b[39mself\u001b[39;49m\u001b[39m.\u001b[39;49mrequest_next_batch(\u001b[39mself\u001b[39;49m\u001b[39m.\u001b[39;49mloader_iters)\n",
      "File \u001b[0;32m~/miniconda3/envs/py310_pytorch/lib/python3.10/site-packages/pytorch_lightning-1.5.9-py3.10.egg/pytorch_lightning/trainer/supporters.py:562\u001b[0m, in \u001b[0;36mCombinedLoaderIterator.request_next_batch\u001b[0;34m(loader_iters)\u001b[0m\n\u001b[1;32m    552\u001b[0m \u001b[39m@staticmethod\u001b[39m\n\u001b[1;32m    553\u001b[0m \u001b[39mdef\u001b[39;00m \u001b[39mrequest_next_batch\u001b[39m(loader_iters: Union[Iterator, Sequence, Mapping]) \u001b[39m-\u001b[39m\u001b[39m>\u001b[39m Any:\n\u001b[1;32m    554\u001b[0m     \u001b[39m\"\"\"Return the batch of data from multiple iterators.\u001b[39;00m\n\u001b[1;32m    555\u001b[0m \n\u001b[1;32m    556\u001b[0m \u001b[39m    Args:\u001b[39;00m\n\u001b[0;32m   (...)\u001b[0m\n\u001b[1;32m    560\u001b[0m \u001b[39m        Any: a collections of batch data\u001b[39;00m\n\u001b[1;32m    561\u001b[0m \u001b[39m    \"\"\"\u001b[39;00m\n\u001b[0;32m--> 562\u001b[0m     \u001b[39mreturn\u001b[39;00m apply_to_collection(loader_iters, Iterator, \u001b[39mnext\u001b[39;49m)\n",
      "File \u001b[0;32m~/miniconda3/envs/py310_pytorch/lib/python3.10/site-packages/pytorch_lightning-1.5.9-py3.10.egg/pytorch_lightning/utilities/apply_func.py:95\u001b[0m, in \u001b[0;36mapply_to_collection\u001b[0;34m(data, dtype, function, wrong_dtype, include_none, *args, **kwargs)\u001b[0m\n\u001b[1;32m     93\u001b[0m \u001b[39m# Breaking condition\u001b[39;00m\n\u001b[1;32m     94\u001b[0m \u001b[39mif\u001b[39;00m \u001b[39misinstance\u001b[39m(data, dtype) \u001b[39mand\u001b[39;00m (wrong_dtype \u001b[39mis\u001b[39;00m \u001b[39mNone\u001b[39;00m \u001b[39mor\u001b[39;00m \u001b[39mnot\u001b[39;00m \u001b[39misinstance\u001b[39m(data, wrong_dtype)):\n\u001b[0;32m---> 95\u001b[0m     \u001b[39mreturn\u001b[39;00m function(data, \u001b[39m*\u001b[39;49margs, \u001b[39m*\u001b[39;49m\u001b[39m*\u001b[39;49mkwargs)\n\u001b[1;32m     97\u001b[0m elem_type \u001b[39m=\u001b[39m \u001b[39mtype\u001b[39m(data)\n\u001b[1;32m     99\u001b[0m \u001b[39m# Recursively apply to collection items\u001b[39;00m\n",
      "File \u001b[0;32m~/miniconda3/envs/py310_pytorch/lib/python3.10/site-packages/torch/utils/data/dataloader.py:681\u001b[0m, in \u001b[0;36m_BaseDataLoaderIter.__next__\u001b[0;34m(self)\u001b[0m\n\u001b[1;32m    678\u001b[0m \u001b[39mif\u001b[39;00m \u001b[39mself\u001b[39m\u001b[39m.\u001b[39m_sampler_iter \u001b[39mis\u001b[39;00m \u001b[39mNone\u001b[39;00m:\n\u001b[1;32m    679\u001b[0m     \u001b[39m# TODO(https://github.com/pytorch/pytorch/issues/76750)\u001b[39;00m\n\u001b[1;32m    680\u001b[0m     \u001b[39mself\u001b[39m\u001b[39m.\u001b[39m_reset()  \u001b[39m# type: ignore[call-arg]\u001b[39;00m\n\u001b[0;32m--> 681\u001b[0m data \u001b[39m=\u001b[39m \u001b[39mself\u001b[39;49m\u001b[39m.\u001b[39;49m_next_data()\n\u001b[1;32m    682\u001b[0m \u001b[39mself\u001b[39m\u001b[39m.\u001b[39m_num_yielded \u001b[39m+\u001b[39m\u001b[39m=\u001b[39m \u001b[39m1\u001b[39m\n\u001b[1;32m    683\u001b[0m \u001b[39mif\u001b[39;00m \u001b[39mself\u001b[39m\u001b[39m.\u001b[39m_dataset_kind \u001b[39m==\u001b[39m _DatasetKind\u001b[39m.\u001b[39mIterable \u001b[39mand\u001b[39;00m \\\n\u001b[1;32m    684\u001b[0m         \u001b[39mself\u001b[39m\u001b[39m.\u001b[39m_IterableDataset_len_called \u001b[39mis\u001b[39;00m \u001b[39mnot\u001b[39;00m \u001b[39mNone\u001b[39;00m \u001b[39mand\u001b[39;00m \\\n\u001b[1;32m    685\u001b[0m         \u001b[39mself\u001b[39m\u001b[39m.\u001b[39m_num_yielded \u001b[39m>\u001b[39m \u001b[39mself\u001b[39m\u001b[39m.\u001b[39m_IterableDataset_len_called:\n",
      "File \u001b[0;32m~/miniconda3/envs/py310_pytorch/lib/python3.10/site-packages/torch/utils/data/dataloader.py:1376\u001b[0m, in \u001b[0;36m_MultiProcessingDataLoaderIter._next_data\u001b[0;34m(self)\u001b[0m\n\u001b[1;32m   1374\u001b[0m \u001b[39melse\u001b[39;00m:\n\u001b[1;32m   1375\u001b[0m     \u001b[39mdel\u001b[39;00m \u001b[39mself\u001b[39m\u001b[39m.\u001b[39m_task_info[idx]\n\u001b[0;32m-> 1376\u001b[0m     \u001b[39mreturn\u001b[39;00m \u001b[39mself\u001b[39;49m\u001b[39m.\u001b[39;49m_process_data(data)\n",
      "File \u001b[0;32m~/miniconda3/envs/py310_pytorch/lib/python3.10/site-packages/torch/utils/data/dataloader.py:1402\u001b[0m, in \u001b[0;36m_MultiProcessingDataLoaderIter._process_data\u001b[0;34m(self, data)\u001b[0m\n\u001b[1;32m   1400\u001b[0m \u001b[39mself\u001b[39m\u001b[39m.\u001b[39m_try_put_index()\n\u001b[1;32m   1401\u001b[0m \u001b[39mif\u001b[39;00m \u001b[39misinstance\u001b[39m(data, ExceptionWrapper):\n\u001b[0;32m-> 1402\u001b[0m     data\u001b[39m.\u001b[39;49mreraise()\n\u001b[1;32m   1403\u001b[0m \u001b[39mreturn\u001b[39;00m data\n",
      "File \u001b[0;32m~/miniconda3/envs/py310_pytorch/lib/python3.10/site-packages/torch/_utils.py:461\u001b[0m, in \u001b[0;36mExceptionWrapper.reraise\u001b[0;34m(self)\u001b[0m\n\u001b[1;32m    457\u001b[0m \u001b[39mexcept\u001b[39;00m \u001b[39mTypeError\u001b[39;00m:\n\u001b[1;32m    458\u001b[0m     \u001b[39m# If the exception takes multiple arguments, don't try to\u001b[39;00m\n\u001b[1;32m    459\u001b[0m     \u001b[39m# instantiate since we don't know how to\u001b[39;00m\n\u001b[1;32m    460\u001b[0m     \u001b[39mraise\u001b[39;00m \u001b[39mRuntimeError\u001b[39;00m(msg) \u001b[39mfrom\u001b[39;00m \u001b[39mNone\u001b[39m\n\u001b[0;32m--> 461\u001b[0m \u001b[39mraise\u001b[39;00m exception\n",
      "\u001b[0;31mTypeError\u001b[0m: Caught TypeError in DataLoader worker process 0.\nOriginal Traceback (most recent call last):\n  File \"/home/fds/miniconda3/envs/py310_pytorch/lib/python3.10/site-packages/torch/utils/data/_utils/worker.py\", line 302, in _worker_loop\n    data = fetcher.fetch(index)\n  File \"/home/fds/miniconda3/envs/py310_pytorch/lib/python3.10/site-packages/torch/utils/data/_utils/fetch.py\", line 49, in fetch\n    data = [self.dataset[idx] for idx in possibly_batched_index]\n  File \"/home/fds/miniconda3/envs/py310_pytorch/lib/python3.10/site-packages/torch/utils/data/_utils/fetch.py\", line 49, in <listcomp>\n    data = [self.dataset[idx] for idx in possibly_batched_index]\n  File \"/tmp/ipykernel_1962280/4117535082.py\", line 29, in __getitem__\n    x = self.transforms(x)\n  File \"/home/fds/miniconda3/envs/py310_pytorch/lib/python3.10/site-packages/torchvision/transforms/transforms.py\", line 94, in __call__\n    img = t(img)\n  File \"/home/fds/miniconda3/envs/py310_pytorch/lib/python3.10/site-packages/torch/nn/modules/module.py\", line 1130, in _call_impl\n    return forward_call(*input, **kwargs)\n  File \"/home/fds/miniconda3/envs/py310_pytorch/lib/python3.10/site-packages/torchvision/transforms/transforms.py\", line 739, in forward\n    return F.vflip(img)\n  File \"/home/fds/miniconda3/envs/py310_pytorch/lib/python3.10/site-packages/torchvision/transforms/functional.py\", line 706, in vflip\n    return F_pil.vflip(img)\n  File \"/home/fds/miniconda3/envs/py310_pytorch/lib/python3.10/site-packages/torchvision/transforms/functional_pil.py\", line 64, in vflip\n    raise TypeError(f\"img should be PIL Image. Got {type(img)}\")\nTypeError: img should be PIL Image. Got <class 'numpy.ndarray'>\n"
     ]
    }
   ],
   "source": [
    "trainer = pl.Trainer(\n",
    "    gpus=1, \n",
    "    max_epochs=5,\n",
    ")\n",
    "\n",
    "trainer.fit(\n",
    "    model, \n",
    "    train_dataloaders=train_dataloader, \n",
    "    val_dataloaders=valid_dataloader,\n",
    ")"
   ]
  },
  {
   "cell_type": "markdown",
   "metadata": {},
   "source": [
    "# Import"
   ]
  },
  {
   "cell_type": "code",
   "execution_count": null,
   "metadata": {},
   "outputs": [],
   "source": [
    "for i in sys.path:\n",
    "    print(i)"
   ]
  },
  {
   "cell_type": "code",
   "execution_count": null,
   "metadata": {},
   "outputs": [
    {
     "ename": "ModuleNotFoundError",
     "evalue": "No module named 'modules'",
     "output_type": "error",
     "traceback": [
      "\u001b[0;31m---------------------------------------------------------------------------\u001b[0m",
      "\u001b[0;31mModuleNotFoundError\u001b[0m                       Traceback (most recent call last)",
      "\u001b[1;32m/home/fds/Downloads/MOAI_2022_Body_Morphometry_AI_Segmentation_Online_Challenge/Body_Morphometry_Chest.ipynb Cell 24\u001b[0m in \u001b[0;36m<cell line: 13>\u001b[0;34m()\u001b[0m\n\u001b[1;32m     <a href='vscode-notebook-cell:/home/fds/Downloads/MOAI_2022_Body_Morphometry_AI_Segmentation_Online_Challenge/Body_Morphometry_Chest.ipynb#X30sZmlsZQ%3D%3D?line=9'>10</a>\u001b[0m prj_dir \u001b[39m=\u001b[39m os\u001b[39m.\u001b[39mpath\u001b[39m.\u001b[39mdirname(os\u001b[39m.\u001b[39mpath\u001b[39m.\u001b[39mabspath(\u001b[39m\"\u001b[39m\u001b[39m\"\u001b[39m)) \u001b[39m# for jupyter\u001b[39;00m\n\u001b[1;32m     <a href='vscode-notebook-cell:/home/fds/Downloads/MOAI_2022_Body_Morphometry_AI_Segmentation_Online_Challenge/Body_Morphometry_Chest.ipynb#X30sZmlsZQ%3D%3D?line=10'>11</a>\u001b[0m sys\u001b[39m.\u001b[39mpath\u001b[39m.\u001b[39mappend(prj_dir)\n\u001b[0;32m---> <a href='vscode-notebook-cell:/home/fds/Downloads/MOAI_2022_Body_Morphometry_AI_Segmentation_Online_Challenge/Body_Morphometry_Chest.ipynb#X30sZmlsZQ%3D%3D?line=12'>13</a>\u001b[0m \u001b[39mfrom\u001b[39;00m \u001b[39mmodules\u001b[39;00m\u001b[39m.\u001b[39;00m\u001b[39mutils\u001b[39;00m \u001b[39mimport\u001b[39;00m load_yaml, get_logger\n\u001b[1;32m     <a href='vscode-notebook-cell:/home/fds/Downloads/MOAI_2022_Body_Morphometry_AI_Segmentation_Online_Challenge/Body_Morphometry_Chest.ipynb#X30sZmlsZQ%3D%3D?line=13'>14</a>\u001b[0m \u001b[39mfrom\u001b[39;00m \u001b[39mmodules\u001b[39;00m\u001b[39m.\u001b[39;00m\u001b[39mmetrics\u001b[39;00m \u001b[39mimport\u001b[39;00m get_metric_function\n\u001b[1;32m     <a href='vscode-notebook-cell:/home/fds/Downloads/MOAI_2022_Body_Morphometry_AI_Segmentation_Online_Challenge/Body_Morphometry_Chest.ipynb#X30sZmlsZQ%3D%3D?line=14'>15</a>\u001b[0m \u001b[39mfrom\u001b[39;00m \u001b[39mmodules\u001b[39;00m\u001b[39m.\u001b[39;00m\u001b[39mearlystoppers\u001b[39;00m \u001b[39mimport\u001b[39;00m EarlyStopper\n",
      "\u001b[0;31mModuleNotFoundError\u001b[0m: No module named 'modules'"
     ]
    }
   ],
   "source": [
    "\"\"\"Train\n",
    "\"\"\"\n",
    "from datetime import datetime\n",
    "from time import time\n",
    "import numpy as np\n",
    "import shutil, random, os, sys, torch\n",
    "from glob import glob\n",
    "\n",
    "# prj_dir = os.path.dirname(os.path.abspath(__file__)) # for script\n",
    "prj_dir = os.path.dirname(os.path.abspath(\"\")) # for jupyter\n",
    "sys.path.append(prj_dir)\n",
    "\n",
    "from modules.utils import load_yaml, get_logger\n",
    "from modules.metrics import get_metric_function\n",
    "from modules.earlystoppers import EarlyStopper\n",
    "from modules.losses import get_loss_function\n",
    "from modules.optimizers import get_optimizer\n",
    "from modules.schedulers import get_scheduler\n",
    "from modules.scalers import get_image_scaler\n",
    "from modules.datasets import SegDataset\n",
    "from modules.recorders import Recorder\n",
    "from modules.trainer import Trainer\n",
    "from models.utils import get_model"
   ]
  },
  {
   "cell_type": "code",
   "execution_count": null,
   "metadata": {},
   "outputs": [],
   "source": [
    "prj_dir = os.path.abspath(\"\")"
   ]
  },
  {
   "cell_type": "code",
   "execution_count": null,
   "metadata": {},
   "outputs": [
    {
     "data": {
      "text/plain": [
       "'/home/fds/Dev/Python/2022_AI_competition/Body Morphometry A.I. Segmentation'"
      ]
     },
     "execution_count": 12,
     "metadata": {},
     "output_type": "execute_result"
    }
   ],
   "source": [
    "prj_dir"
   ]
  },
  {
   "cell_type": "code",
   "execution_count": null,
   "metadata": {},
   "outputs": [],
   "source": [
    "yaml = 'train.yaml'"
   ]
  },
  {
   "cell_type": "markdown",
   "metadata": {},
   "source": [
    "# Configs"
   ]
  },
  {
   "cell_type": "code",
   "execution_count": null,
   "metadata": {},
   "outputs": [],
   "source": [
    "\n",
    "# Load config\n",
    "config_path = os.path.join(prj_dir, 'config', yaml)\n",
    "config = load_yaml(config_path)\n",
    "\n",
    "# Set train serial: ex) 20211004\n",
    "train_serial = datetime.now().strftime(\"%Y%m%d_%H%M%S\")\n",
    "train_serial = 'debug' if config['debug'] else train_serial\n",
    "\n",
    "# Set random seed, deterministic\n",
    "torch.cuda.manual_seed(config['seed'])\n",
    "torch.manual_seed(config['seed'])\n",
    "np.random.seed(config['seed'])\n",
    "random.seed(config['seed'])\n",
    "torch.backends.cudnn.deterministic = True\n",
    "torch.backends.cudnn.benchmark = False\n",
    "\n",
    "# Set device(GPU/CPU)\n",
    "os.environ['CUDA_VISIBLE_DEVICES'] = str(config['gpu_num'])\n",
    "device = torch.device('cuda' if torch.cuda.is_available() else 'cpu')\n",
    "\n",
    "# Create train result directory and set logger\n",
    "train_result_dir = os.path.join(prj_dir, 'results', 'train', config['architecture'], train_serial)\n",
    "os.makedirs(train_result_dir, exist_ok=True)\n",
    "\n",
    "# Set logger\n",
    "logging_level = 'debug' if config['verbose'] else 'info'\n",
    "logger = get_logger(name='train',\n",
    "                    file_path=os.path.join(train_result_dir, 'train.log'),\n",
    "                    level=logging_level)\n",
    "\n",
    "\n",
    "# Set data directory\n",
    "train_dirs = os.path.join(prj_dir, 'data', 'train')"
   ]
  },
  {
   "cell_type": "markdown",
   "metadata": {},
   "source": [
    "# Model"
   ]
  },
  {
   "cell_type": "code",
   "execution_count": null,
   "metadata": {},
   "outputs": [],
   "source": [
    "# Load model\n",
    "model = get_model(model_str=config['architecture'])\n",
    "model = model(classes=config['n_classes'],\n",
    "            encoder_name=config['encoder'],\n",
    "            encoder_weights=config['encoder_weight'],\n",
    "            activation=config['activation']).to(device)\n",
    "logger.info(f\"Load model architecture: {config['architecture']}\")\n",
    "\n",
    "# Set optimizer\n",
    "optimizer = get_optimizer(optimizer_str=config['optimizer']['name'])\n",
    "optimizer = optimizer(model.parameters(), **config['optimizer']['args'])\n",
    "\n",
    "# Set Scheduler\n",
    "scheduler = get_scheduler(scheduler_str=config['scheduler']['name'])\n",
    "scheduler = scheduler(optimizer=optimizer, **config['scheduler']['args'])\n",
    "\n",
    "# Set loss function\n",
    "loss_func = get_loss_function(loss_function_str=config['loss']['name'])\n",
    "loss_func = loss_func(**config['loss']['args'])\n",
    "\n",
    "# Set metric\n",
    "metric_funcs = {metric_name:get_metric_function(metric_name) for metric_name in config['metrics']}\n",
    "logger.info(f\"Load optimizer:{config['optimizer']['name']}, scheduler: {config['scheduler']['name']}, loss: {config['loss']['name']}, metric: {config['metrics']}\")\n",
    "\n",
    "# Set trainer\n",
    "trainer = Trainer(model=model,\n",
    "                optimizer=optimizer,\n",
    "                scheduler=scheduler,\n",
    "                loss_func=loss_func,\n",
    "                metric_funcs=metric_funcs,\n",
    "                device=device,\n",
    "                logger=logger)\n",
    "logger.info(f\"Load trainer\")\n",
    "\n",
    "# Set early stopper\n",
    "early_stopper = EarlyStopper(patience=config['earlystopping_patience'],\n",
    "                            logger=logger)\n",
    "# Set recorder\n",
    "recorder = Recorder(record_dir=train_result_dir,\n",
    "                    model=model,\n",
    "                    optimizer=optimizer,\n",
    "                    scheduler=scheduler,\n",
    "                    logger=logger)\n",
    "logger.info(\"Load early stopper, recorder\")\n",
    "\n",
    "# Recorder - save train config\n",
    "shutil.copy(config_path, os.path.join(recorder.record_dir, yaml))\n"
   ]
  },
  {
   "cell_type": "markdown",
   "metadata": {},
   "source": [
    "# Train"
   ]
  },
  {
   "cell_type": "code",
   "execution_count": null,
   "metadata": {},
   "outputs": [],
   "source": [
    "# Train\n",
    "print(\"START TRAINING\")\n",
    "logger.info(\"START TRAINING\")\n",
    "for epoch_id in range(config['n_epochs']):\n",
    "    \n",
    "    # Initiate result row\n",
    "    row = dict()\n",
    "    row['epoch_id'] = epoch_id\n",
    "    row['train_serial'] = train_serial\n",
    "    row['lr'] = trainer.scheduler.get_last_lr()\n",
    "\n",
    "    # Train\n",
    "    print(f\"Epoch {epoch_id}/{config['n_epochs']} Train..\")\n",
    "    logger.info(f\"Epoch {epoch_id}/{config['n_epochs']} Train..\")\n",
    "    tic = time()\n",
    "    trainer.train(dataloader=train_dataloader, epoch_index=epoch_id)\n",
    "    toc = time()\n",
    "    # Write tarin result to result row\n",
    "    row['train_loss'] = trainer.loss  # Loss\n",
    "    for metric_name, metric_score in trainer.scores.items():\n",
    "        row[f'train_{metric_name}'] = metric_score\n",
    "\n",
    "    row['train_elapsed_time'] = round(toc-tic, 1)\n",
    "    # Clear\n",
    "    trainer.clear_history()\n",
    "\n",
    "    # Validation\n",
    "    print(f\"Epoch {epoch_id}/{config['n_epochs']} Validation..\")\n",
    "    logger.info(f\"Epoch {epoch_id}/{config['n_epochs']} Validation..\")\n",
    "    tic = time()\n",
    "    trainer.validate(dataloader=valid_dataloader, epoch_index=epoch_id)\n",
    "    toc = time()\n",
    "    row['val_loss'] = trainer.loss\n",
    "    # row[f\"val_{config['metric']}\"] = trainer.score\n",
    "    for metric_name, metric_score in trainer.scores.items():\n",
    "        row[f'val_{metric_name}'] = metric_score\n",
    "    row['val_elapsed_time'] = round(toc-tic, 1)\n",
    "    trainer.clear_history()\n",
    "\n",
    "    # Performance record - row\n",
    "    recorder.add_row(row)\n",
    "    \n",
    "    # Performance record - plot\n",
    "    recorder.save_plot(config['plot'])\n",
    "\n",
    "    # Check early stopping\n",
    "    early_stopper.check_early_stopping(row[config['earlystopping_target']])\n",
    "    if early_stopper.patience_counter == 0:\n",
    "        recorder.save_weight(epoch=epoch_id)\n",
    "        \n",
    "    if early_stopper.stop:\n",
    "        print(f\"Epoch {epoch_id}/{config['n_epochs']}, Stopped counter {early_stopper.patience_counter}/{config['earlystopping_patience']}\")\n",
    "        logger.info(f\"Epoch {epoch_id}/{config['n_epochs']}, Stopped counter {early_stopper.patience_counter}/{config['earlystopping_patience']}\")\n",
    "        break\n",
    "\n",
    "print(\"END TRAINING\")\n",
    "logger.info(\"END TRAINING\")"
   ]
  }
 ],
 "metadata": {
  "kernelspec": {
   "display_name": "Python 3.10.4 ('py310_pytorch')",
   "language": "python",
   "name": "python3"
  },
  "language_info": {
   "codemirror_mode": {
    "name": "ipython",
    "version": 3
   },
   "file_extension": ".py",
   "mimetype": "text/x-python",
   "name": "python",
   "nbconvert_exporter": "python",
   "pygments_lexer": "ipython3",
   "version": "3.10.12"
  },
  "orig_nbformat": 4,
  "vscode": {
   "interpreter": {
    "hash": "f1c3adb10a68128a1a8313746601dc1ecff251b3157a7a745306942cc936ba57"
   }
  }
 },
 "nbformat": 4,
 "nbformat_minor": 2
}
